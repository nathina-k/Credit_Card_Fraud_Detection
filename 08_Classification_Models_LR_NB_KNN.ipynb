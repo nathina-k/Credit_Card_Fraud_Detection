{
 "cells": [
  {
   "cell_type": "markdown",
   "metadata": {},
   "source": [
    "# <font color='blue'>Credit Card Fraud Detecion</font>"
   ]
  },
  {
   "cell_type": "markdown",
   "metadata": {},
   "source": [
    "## Table of Contents \n",
    "9. [Classification Models](#i_ID)\n",
    "\n",
    "    9.1 [Logistic Regression with 10-fold Cross-validation](#i1_ID)\n",
    "    \n",
    "    9.2 [Naive Bayes](#i2_ID)\n",
    "    \n",
    "    9.3 [KNN Classifier](#i3_ID)"
   ]
  },
  {
   "cell_type": "markdown",
   "metadata": {},
   "source": [
    "## <a id=\"i_ID\">9. Classification Models</a>"
   ]
  },
  {
   "cell_type": "markdown",
   "metadata": {},
   "source": [
    "The seven classification models are logistic regression, Naive Bayes classifier, KNN classifier, Decision tree classifier, Random forest classifier, SVM classifier, MLP classifer, without RFE or PCA, with RFE, and with PCA. A total of 21 models are evaluated."
   ]
  },
  {
   "cell_type": "code",
   "execution_count": 92,
   "metadata": {
    "scrolled": false
   },
   "outputs": [
    {
     "data": {
      "text/html": [
       "<div>\n",
       "<style scoped>\n",
       "    .dataframe tbody tr th:only-of-type {\n",
       "        vertical-align: middle;\n",
       "    }\n",
       "\n",
       "    .dataframe tbody tr th {\n",
       "        vertical-align: top;\n",
       "    }\n",
       "\n",
       "    .dataframe thead th {\n",
       "        text-align: right;\n",
       "    }\n",
       "</style>\n",
       "<table border=\"1\" class=\"dataframe\">\n",
       "  <thead>\n",
       "    <tr style=\"text-align: right;\">\n",
       "      <th></th>\n",
       "      <th>Time</th>\n",
       "      <th>V1</th>\n",
       "      <th>V2</th>\n",
       "      <th>V3</th>\n",
       "      <th>V4</th>\n",
       "      <th>V5</th>\n",
       "      <th>V6</th>\n",
       "      <th>V7</th>\n",
       "      <th>V8</th>\n",
       "      <th>V9</th>\n",
       "      <th>...</th>\n",
       "      <th>V17</th>\n",
       "      <th>V18</th>\n",
       "      <th>V19</th>\n",
       "      <th>V20</th>\n",
       "      <th>V22</th>\n",
       "      <th>V23</th>\n",
       "      <th>V26</th>\n",
       "      <th>V27</th>\n",
       "      <th>V28</th>\n",
       "      <th>Amount</th>\n",
       "    </tr>\n",
       "  </thead>\n",
       "  <tbody>\n",
       "    <tr>\n",
       "      <th>0</th>\n",
       "      <td>-1.535296</td>\n",
       "      <td>0.351762</td>\n",
       "      <td>-0.500795</td>\n",
       "      <td>0.593660</td>\n",
       "      <td>0.523703</td>\n",
       "      <td>-0.579075</td>\n",
       "      <td>0.516214</td>\n",
       "      <td>-0.527687</td>\n",
       "      <td>0.289567</td>\n",
       "      <td>1.563867</td>\n",
       "      <td>...</td>\n",
       "      <td>0.666107</td>\n",
       "      <td>0.098571</td>\n",
       "      <td>-1.314695</td>\n",
       "      <td>0.206726</td>\n",
       "      <td>-0.086176</td>\n",
       "      <td>-0.072836</td>\n",
       "      <td>0.780781</td>\n",
       "      <td>-0.138826</td>\n",
       "      <td>0.109658</td>\n",
       "      <td>0.509071</td>\n",
       "    </tr>\n",
       "    <tr>\n",
       "      <th>1</th>\n",
       "      <td>-1.198654</td>\n",
       "      <td>-0.566635</td>\n",
       "      <td>0.624540</td>\n",
       "      <td>0.835329</td>\n",
       "      <td>-0.682127</td>\n",
       "      <td>-0.089419</td>\n",
       "      <td>0.417702</td>\n",
       "      <td>-0.681916</td>\n",
       "      <td>-2.100175</td>\n",
       "      <td>0.166423</td>\n",
       "      <td>...</td>\n",
       "      <td>-0.654650</td>\n",
       "      <td>0.038077</td>\n",
       "      <td>-0.216072</td>\n",
       "      <td>0.975068</td>\n",
       "      <td>1.131440</td>\n",
       "      <td>-0.222373</td>\n",
       "      <td>2.138311</td>\n",
       "      <td>0.699143</td>\n",
       "      <td>0.612125</td>\n",
       "      <td>-0.291531</td>\n",
       "    </tr>\n",
       "    <tr>\n",
       "      <th>2</th>\n",
       "      <td>1.008918</td>\n",
       "      <td>1.006160</td>\n",
       "      <td>-0.370358</td>\n",
       "      <td>-0.225330</td>\n",
       "      <td>0.227813</td>\n",
       "      <td>-0.536617</td>\n",
       "      <td>-0.030047</td>\n",
       "      <td>-0.701278</td>\n",
       "      <td>0.176174</td>\n",
       "      <td>1.122688</td>\n",
       "      <td>...</td>\n",
       "      <td>-0.849029</td>\n",
       "      <td>0.795924</td>\n",
       "      <td>0.100894</td>\n",
       "      <td>-0.347990</td>\n",
       "      <td>0.911894</td>\n",
       "      <td>0.214323</td>\n",
       "      <td>1.197337</td>\n",
       "      <td>-0.077707</td>\n",
       "      <td>-0.196924</td>\n",
       "      <td>-0.315549</td>\n",
       "    </tr>\n",
       "    <tr>\n",
       "      <th>3</th>\n",
       "      <td>1.492265</td>\n",
       "      <td>0.907519</td>\n",
       "      <td>0.154829</td>\n",
       "      <td>-0.149127</td>\n",
       "      <td>2.306478</td>\n",
       "      <td>0.782434</td>\n",
       "      <td>2.029608</td>\n",
       "      <td>-0.577631</td>\n",
       "      <td>0.615145</td>\n",
       "      <td>-0.776495</td>\n",
       "      <td>...</td>\n",
       "      <td>-0.856152</td>\n",
       "      <td>-1.296203</td>\n",
       "      <td>-2.579611</td>\n",
       "      <td>-0.331388</td>\n",
       "      <td>-0.281399</td>\n",
       "      <td>0.720081</td>\n",
       "      <td>-0.627499</td>\n",
       "      <td>0.141029</td>\n",
       "      <td>-0.136791</td>\n",
       "      <td>-0.351576</td>\n",
       "    </tr>\n",
       "    <tr>\n",
       "      <th>4</th>\n",
       "      <td>0.619802</td>\n",
       "      <td>0.961135</td>\n",
       "      <td>0.071901</td>\n",
       "      <td>-1.329142</td>\n",
       "      <td>0.767343</td>\n",
       "      <td>0.638958</td>\n",
       "      <td>-0.478144</td>\n",
       "      <td>0.657484</td>\n",
       "      <td>-0.286411</td>\n",
       "      <td>-0.507138</td>\n",
       "      <td>...</td>\n",
       "      <td>-0.815790</td>\n",
       "      <td>-0.086624</td>\n",
       "      <td>-0.240815</td>\n",
       "      <td>-0.048324</td>\n",
       "      <td>0.793919</td>\n",
       "      <td>-0.098555</td>\n",
       "      <td>-1.130931</td>\n",
       "      <td>-0.125726</td>\n",
       "      <td>-0.157990</td>\n",
       "      <td>-0.011320</td>\n",
       "    </tr>\n",
       "    <tr>\n",
       "      <th>...</th>\n",
       "      <td>...</td>\n",
       "      <td>...</td>\n",
       "      <td>...</td>\n",
       "      <td>...</td>\n",
       "      <td>...</td>\n",
       "      <td>...</td>\n",
       "      <td>...</td>\n",
       "      <td>...</td>\n",
       "      <td>...</td>\n",
       "      <td>...</td>\n",
       "      <td>...</td>\n",
       "      <td>...</td>\n",
       "      <td>...</td>\n",
       "      <td>...</td>\n",
       "      <td>...</td>\n",
       "      <td>...</td>\n",
       "      <td>...</td>\n",
       "      <td>...</td>\n",
       "      <td>...</td>\n",
       "      <td>...</td>\n",
       "      <td>...</td>\n",
       "    </tr>\n",
       "    <tr>\n",
       "      <th>424861</th>\n",
       "      <td>-1.814848</td>\n",
       "      <td>-0.903876</td>\n",
       "      <td>2.108705</td>\n",
       "      <td>-3.110692</td>\n",
       "      <td>2.129984</td>\n",
       "      <td>-1.569743</td>\n",
       "      <td>-1.734457</td>\n",
       "      <td>-3.485985</td>\n",
       "      <td>1.380353</td>\n",
       "      <td>-1.103438</td>\n",
       "      <td>...</td>\n",
       "      <td>-7.453020</td>\n",
       "      <td>-1.531103</td>\n",
       "      <td>0.817794</td>\n",
       "      <td>0.669991</td>\n",
       "      <td>-0.550626</td>\n",
       "      <td>0.169589</td>\n",
       "      <td>0.646236</td>\n",
       "      <td>1.469934</td>\n",
       "      <td>0.853927</td>\n",
       "      <td>-0.347573</td>\n",
       "    </tr>\n",
       "    <tr>\n",
       "      <th>424862</th>\n",
       "      <td>-1.827962</td>\n",
       "      <td>-0.864227</td>\n",
       "      <td>2.029195</td>\n",
       "      <td>-2.651487</td>\n",
       "      <td>1.751551</td>\n",
       "      <td>-1.193544</td>\n",
       "      <td>-1.684474</td>\n",
       "      <td>-2.811120</td>\n",
       "      <td>1.245476</td>\n",
       "      <td>-0.929779</td>\n",
       "      <td>...</td>\n",
       "      <td>-5.399375</td>\n",
       "      <td>-1.005911</td>\n",
       "      <td>0.103265</td>\n",
       "      <td>0.443404</td>\n",
       "      <td>-0.771976</td>\n",
       "      <td>-0.038182</td>\n",
       "      <td>0.650756</td>\n",
       "      <td>0.954024</td>\n",
       "      <td>0.553117</td>\n",
       "      <td>-0.347573</td>\n",
       "    </tr>\n",
       "    <tr>\n",
       "      <th>424863</th>\n",
       "      <td>-0.706922</td>\n",
       "      <td>-0.196450</td>\n",
       "      <td>-0.322743</td>\n",
       "      <td>0.170903</td>\n",
       "      <td>0.309774</td>\n",
       "      <td>0.017954</td>\n",
       "      <td>-0.093624</td>\n",
       "      <td>0.365813</td>\n",
       "      <td>-0.223656</td>\n",
       "      <td>-0.357212</td>\n",
       "      <td>...</td>\n",
       "      <td>-0.495589</td>\n",
       "      <td>0.304100</td>\n",
       "      <td>-1.088870</td>\n",
       "      <td>-1.081571</td>\n",
       "      <td>-0.615633</td>\n",
       "      <td>-0.457783</td>\n",
       "      <td>-0.950073</td>\n",
       "      <td>0.076029</td>\n",
       "      <td>0.138565</td>\n",
       "      <td>0.355592</td>\n",
       "    </tr>\n",
       "    <tr>\n",
       "      <th>424864</th>\n",
       "      <td>0.772097</td>\n",
       "      <td>0.486984</td>\n",
       "      <td>0.907723</td>\n",
       "      <td>-2.886068</td>\n",
       "      <td>2.609549</td>\n",
       "      <td>-0.231679</td>\n",
       "      <td>-0.608149</td>\n",
       "      <td>-1.913229</td>\n",
       "      <td>0.558176</td>\n",
       "      <td>-0.711312</td>\n",
       "      <td>...</td>\n",
       "      <td>-2.937845</td>\n",
       "      <td>0.129939</td>\n",
       "      <td>-0.193866</td>\n",
       "      <td>0.512260</td>\n",
       "      <td>0.609263</td>\n",
       "      <td>-0.329593</td>\n",
       "      <td>-0.377920</td>\n",
       "      <td>1.566194</td>\n",
       "      <td>0.942041</td>\n",
       "      <td>-0.136318</td>\n",
       "    </tr>\n",
       "    <tr>\n",
       "      <th>424865</th>\n",
       "      <td>-1.392875</td>\n",
       "      <td>-14.505625</td>\n",
       "      <td>9.595778</td>\n",
       "      <td>-19.318666</td>\n",
       "      <td>4.550419</td>\n",
       "      <td>-14.819064</td>\n",
       "      <td>-3.630730</td>\n",
       "      <td>-15.628563</td>\n",
       "      <td>15.678794</td>\n",
       "      <td>-3.337083</td>\n",
       "      <td>...</td>\n",
       "      <td>-13.624093</td>\n",
       "      <td>-5.627747</td>\n",
       "      <td>0.880827</td>\n",
       "      <td>2.243636</td>\n",
       "      <td>-2.880712</td>\n",
       "      <td>-2.061023</td>\n",
       "      <td>-0.437445</td>\n",
       "      <td>3.314625</td>\n",
       "      <td>1.177694</td>\n",
       "      <td>0.044722</td>\n",
       "    </tr>\n",
       "  </tbody>\n",
       "</table>\n",
       "<p>424866 rows × 27 columns</p>\n",
       "</div>"
      ],
      "text/plain": [
       "            Time         V1        V2         V3        V4         V5  \\\n",
       "0      -1.535296   0.351762 -0.500795   0.593660  0.523703  -0.579075   \n",
       "1      -1.198654  -0.566635  0.624540   0.835329 -0.682127  -0.089419   \n",
       "2       1.008918   1.006160 -0.370358  -0.225330  0.227813  -0.536617   \n",
       "3       1.492265   0.907519  0.154829  -0.149127  2.306478   0.782434   \n",
       "4       0.619802   0.961135  0.071901  -1.329142  0.767343   0.638958   \n",
       "...          ...        ...       ...        ...       ...        ...   \n",
       "424861 -1.814848  -0.903876  2.108705  -3.110692  2.129984  -1.569743   \n",
       "424862 -1.827962  -0.864227  2.029195  -2.651487  1.751551  -1.193544   \n",
       "424863 -0.706922  -0.196450 -0.322743   0.170903  0.309774   0.017954   \n",
       "424864  0.772097   0.486984  0.907723  -2.886068  2.609549  -0.231679   \n",
       "424865 -1.392875 -14.505625  9.595778 -19.318666  4.550419 -14.819064   \n",
       "\n",
       "              V6         V7         V8        V9  ...        V17       V18  \\\n",
       "0       0.516214  -0.527687   0.289567  1.563867  ...   0.666107  0.098571   \n",
       "1       0.417702  -0.681916  -2.100175  0.166423  ...  -0.654650  0.038077   \n",
       "2      -0.030047  -0.701278   0.176174  1.122688  ...  -0.849029  0.795924   \n",
       "3       2.029608  -0.577631   0.615145 -0.776495  ...  -0.856152 -1.296203   \n",
       "4      -0.478144   0.657484  -0.286411 -0.507138  ...  -0.815790 -0.086624   \n",
       "...          ...        ...        ...       ...  ...        ...       ...   \n",
       "424861 -1.734457  -3.485985   1.380353 -1.103438  ...  -7.453020 -1.531103   \n",
       "424862 -1.684474  -2.811120   1.245476 -0.929779  ...  -5.399375 -1.005911   \n",
       "424863 -0.093624   0.365813  -0.223656 -0.357212  ...  -0.495589  0.304100   \n",
       "424864 -0.608149  -1.913229   0.558176 -0.711312  ...  -2.937845  0.129939   \n",
       "424865 -3.630730 -15.628563  15.678794 -3.337083  ... -13.624093 -5.627747   \n",
       "\n",
       "             V19       V20       V22       V23       V26       V27       V28  \\\n",
       "0      -1.314695  0.206726 -0.086176 -0.072836  0.780781 -0.138826  0.109658   \n",
       "1      -0.216072  0.975068  1.131440 -0.222373  2.138311  0.699143  0.612125   \n",
       "2       0.100894 -0.347990  0.911894  0.214323  1.197337 -0.077707 -0.196924   \n",
       "3      -2.579611 -0.331388 -0.281399  0.720081 -0.627499  0.141029 -0.136791   \n",
       "4      -0.240815 -0.048324  0.793919 -0.098555 -1.130931 -0.125726 -0.157990   \n",
       "...          ...       ...       ...       ...       ...       ...       ...   \n",
       "424861  0.817794  0.669991 -0.550626  0.169589  0.646236  1.469934  0.853927   \n",
       "424862  0.103265  0.443404 -0.771976 -0.038182  0.650756  0.954024  0.553117   \n",
       "424863 -1.088870 -1.081571 -0.615633 -0.457783 -0.950073  0.076029  0.138565   \n",
       "424864 -0.193866  0.512260  0.609263 -0.329593 -0.377920  1.566194  0.942041   \n",
       "424865  0.880827  2.243636 -2.880712 -2.061023 -0.437445  3.314625  1.177694   \n",
       "\n",
       "          Amount  \n",
       "0       0.509071  \n",
       "1      -0.291531  \n",
       "2      -0.315549  \n",
       "3      -0.351576  \n",
       "4      -0.011320  \n",
       "...          ...  \n",
       "424861 -0.347573  \n",
       "424862 -0.347573  \n",
       "424863  0.355592  \n",
       "424864 -0.136318  \n",
       "424865  0.044722  \n",
       "\n",
       "[424866 rows x 27 columns]"
      ]
     },
     "execution_count": 92,
     "metadata": {},
     "output_type": "execute_result"
    }
   ],
   "source": [
    "# Subset X train data with selected features\n",
    "X_train_rfe = X_train_sc_smote[[\"Time\", \"V1\", \"V2\", \"V3\", \"V4\", \"V5\", \"V6\", \"V7\", \"V8\", \"V9\", \"V10\", \"V11\", \"V12\", \"V13\", \"V14\", \"V15\", \"V16\", \"V17\", \"V18\", \"V19\", \"V20\", \"V22\", \"V23\", \"V26\", \"V27\", \"V28\", \"Amount\"]]\n",
    "X_train_rfe"
   ]
  },
  {
   "cell_type": "code",
   "execution_count": 93,
   "metadata": {},
   "outputs": [],
   "source": [
    "# Create dataframe with scaled X test data\n",
    "df_2 = pd.DataFrame(X_test_sc, columns = [\"Time\", \"V1\", \"V2\", \"V3\", \"V4\", \"V5\", \"V6\", \"V7\", \"V8\", \"V9\", \"V10\", \"V11\", \"V12\", \"V13\", \"V14\", \"V15\", \"V16\", \"V17\", \"V18\", \"V19\", \"V20\", \"V21\", \"V22\", \"V23\", \"V24\", \"V25\", \"V26\", \"V27\", \"V28\", \"Amount\"])\n",
    "#df_2"
   ]
  },
  {
   "cell_type": "code",
   "execution_count": 94,
   "metadata": {},
   "outputs": [
    {
     "data": {
      "text/html": [
       "<div>\n",
       "<style scoped>\n",
       "    .dataframe tbody tr th:only-of-type {\n",
       "        vertical-align: middle;\n",
       "    }\n",
       "\n",
       "    .dataframe tbody tr th {\n",
       "        vertical-align: top;\n",
       "    }\n",
       "\n",
       "    .dataframe thead th {\n",
       "        text-align: right;\n",
       "    }\n",
       "</style>\n",
       "<table border=\"1\" class=\"dataframe\">\n",
       "  <thead>\n",
       "    <tr style=\"text-align: right;\">\n",
       "      <th></th>\n",
       "      <th>Time</th>\n",
       "      <th>V1</th>\n",
       "      <th>V2</th>\n",
       "      <th>V3</th>\n",
       "      <th>V4</th>\n",
       "      <th>V5</th>\n",
       "      <th>V6</th>\n",
       "      <th>V7</th>\n",
       "      <th>V8</th>\n",
       "      <th>V9</th>\n",
       "      <th>...</th>\n",
       "      <th>V17</th>\n",
       "      <th>V18</th>\n",
       "      <th>V19</th>\n",
       "      <th>V20</th>\n",
       "      <th>V22</th>\n",
       "      <th>V23</th>\n",
       "      <th>V26</th>\n",
       "      <th>V27</th>\n",
       "      <th>V28</th>\n",
       "      <th>Amount</th>\n",
       "    </tr>\n",
       "  </thead>\n",
       "  <tbody>\n",
       "    <tr>\n",
       "      <th>0</th>\n",
       "      <td>-0.541339</td>\n",
       "      <td>0.532325</td>\n",
       "      <td>-0.451390</td>\n",
       "      <td>0.106290</td>\n",
       "      <td>0.471926</td>\n",
       "      <td>0.823042</td>\n",
       "      <td>3.592607</td>\n",
       "      <td>-1.286340</td>\n",
       "      <td>1.117282</td>\n",
       "      <td>1.428482</td>\n",
       "      <td>...</td>\n",
       "      <td>-0.220744</td>\n",
       "      <td>0.270836</td>\n",
       "      <td>0.661376</td>\n",
       "      <td>0.064868</td>\n",
       "      <td>-0.044860</td>\n",
       "      <td>-0.277746</td>\n",
       "      <td>-0.453108</td>\n",
       "      <td>0.256014</td>\n",
       "      <td>0.118848</td>\n",
       "      <td>-0.128777</td>\n",
       "    </tr>\n",
       "    <tr>\n",
       "      <th>1</th>\n",
       "      <td>-0.297442</td>\n",
       "      <td>-2.442473</td>\n",
       "      <td>2.610237</td>\n",
       "      <td>-0.608590</td>\n",
       "      <td>-0.635383</td>\n",
       "      <td>-0.647578</td>\n",
       "      <td>-0.593118</td>\n",
       "      <td>0.270429</td>\n",
       "      <td>0.500496</td>\n",
       "      <td>2.509212</td>\n",
       "      <td>...</td>\n",
       "      <td>0.178984</td>\n",
       "      <td>-1.132836</td>\n",
       "      <td>-1.146412</td>\n",
       "      <td>2.687556</td>\n",
       "      <td>-1.049770</td>\n",
       "      <td>0.240204</td>\n",
       "      <td>0.019417</td>\n",
       "      <td>1.091174</td>\n",
       "      <td>-1.308897</td>\n",
       "      <td>-0.315089</td>\n",
       "    </tr>\n",
       "    <tr>\n",
       "      <th>2</th>\n",
       "      <td>-1.131650</td>\n",
       "      <td>-0.789799</td>\n",
       "      <td>-0.150004</td>\n",
       "      <td>1.033593</td>\n",
       "      <td>-1.439221</td>\n",
       "      <td>-0.273696</td>\n",
       "      <td>-1.008606</td>\n",
       "      <td>0.134599</td>\n",
       "      <td>-0.017722</td>\n",
       "      <td>-1.343700</td>\n",
       "      <td>...</td>\n",
       "      <td>-0.421597</td>\n",
       "      <td>0.886261</td>\n",
       "      <td>-1.783484</td>\n",
       "      <td>-0.430475</td>\n",
       "      <td>-1.315635</td>\n",
       "      <td>-0.238984</td>\n",
       "      <td>2.306768</td>\n",
       "      <td>-1.273816</td>\n",
       "      <td>-0.747208</td>\n",
       "      <td>-0.168418</td>\n",
       "    </tr>\n",
       "    <tr>\n",
       "      <th>3</th>\n",
       "      <td>-1.985435</td>\n",
       "      <td>0.106866</td>\n",
       "      <td>0.403157</td>\n",
       "      <td>0.865704</td>\n",
       "      <td>0.121023</td>\n",
       "      <td>-0.301823</td>\n",
       "      <td>-0.392928</td>\n",
       "      <td>-0.034329</td>\n",
       "      <td>-0.709868</td>\n",
       "      <td>-0.482173</td>\n",
       "      <td>...</td>\n",
       "      <td>-0.673512</td>\n",
       "      <td>-0.121177</td>\n",
       "      <td>0.002695</td>\n",
       "      <td>-0.228493</td>\n",
       "      <td>-1.329706</td>\n",
       "      <td>-0.022586</td>\n",
       "      <td>0.297650</td>\n",
       "      <td>0.112048</td>\n",
       "      <td>0.380093</td>\n",
       "      <td>-0.338874</td>\n",
       "    </tr>\n",
       "    <tr>\n",
       "      <th>4</th>\n",
       "      <td>1.390508</td>\n",
       "      <td>-0.141753</td>\n",
       "      <td>0.500385</td>\n",
       "      <td>0.368985</td>\n",
       "      <td>0.273507</td>\n",
       "      <td>0.993784</td>\n",
       "      <td>1.492061</td>\n",
       "      <td>0.265172</td>\n",
       "      <td>0.438964</td>\n",
       "      <td>-0.813240</td>\n",
       "      <td>...</td>\n",
       "      <td>1.078822</td>\n",
       "      <td>0.026860</td>\n",
       "      <td>2.575595</td>\n",
       "      <td>0.215565</td>\n",
       "      <td>1.600293</td>\n",
       "      <td>-0.905168</td>\n",
       "      <td>1.161402</td>\n",
       "      <td>0.324701</td>\n",
       "      <td>0.141082</td>\n",
       "      <td>-0.342838</td>\n",
       "    </tr>\n",
       "    <tr>\n",
       "      <th>...</th>\n",
       "      <td>...</td>\n",
       "      <td>...</td>\n",
       "      <td>...</td>\n",
       "      <td>...</td>\n",
       "      <td>...</td>\n",
       "      <td>...</td>\n",
       "      <td>...</td>\n",
       "      <td>...</td>\n",
       "      <td>...</td>\n",
       "      <td>...</td>\n",
       "      <td>...</td>\n",
       "      <td>...</td>\n",
       "      <td>...</td>\n",
       "      <td>...</td>\n",
       "      <td>...</td>\n",
       "      <td>...</td>\n",
       "      <td>...</td>\n",
       "      <td>...</td>\n",
       "      <td>...</td>\n",
       "      <td>...</td>\n",
       "      <td>...</td>\n",
       "    </tr>\n",
       "    <tr>\n",
       "      <th>70927</th>\n",
       "      <td>1.313866</td>\n",
       "      <td>-0.430452</td>\n",
       "      <td>0.456316</td>\n",
       "      <td>-0.538911</td>\n",
       "      <td>0.664789</td>\n",
       "      <td>0.061693</td>\n",
       "      <td>0.101684</td>\n",
       "      <td>1.253490</td>\n",
       "      <td>0.374964</td>\n",
       "      <td>-0.772639</td>\n",
       "      <td>...</td>\n",
       "      <td>0.247460</td>\n",
       "      <td>0.663149</td>\n",
       "      <td>1.232974</td>\n",
       "      <td>0.384450</td>\n",
       "      <td>0.708843</td>\n",
       "      <td>0.522640</td>\n",
       "      <td>-0.885816</td>\n",
       "      <td>0.546808</td>\n",
       "      <td>0.564698</td>\n",
       "      <td>0.537189</td>\n",
       "    </tr>\n",
       "    <tr>\n",
       "      <th>70928</th>\n",
       "      <td>1.269529</td>\n",
       "      <td>1.044372</td>\n",
       "      <td>0.367302</td>\n",
       "      <td>-2.105797</td>\n",
       "      <td>0.438979</td>\n",
       "      <td>0.903753</td>\n",
       "      <td>-1.034673</td>\n",
       "      <td>0.562940</td>\n",
       "      <td>-0.254930</td>\n",
       "      <td>-0.124512</td>\n",
       "      <td>...</td>\n",
       "      <td>2.372229</td>\n",
       "      <td>1.327738</td>\n",
       "      <td>-0.028363</td>\n",
       "      <td>-0.197497</td>\n",
       "      <td>0.094463</td>\n",
       "      <td>-0.066481</td>\n",
       "      <td>1.382534</td>\n",
       "      <td>-0.229371</td>\n",
       "      <td>-0.073449</td>\n",
       "      <td>-0.350766</td>\n",
       "    </tr>\n",
       "    <tr>\n",
       "      <th>70929</th>\n",
       "      <td>-1.276736</td>\n",
       "      <td>0.578876</td>\n",
       "      <td>0.263610</td>\n",
       "      <td>-0.413349</td>\n",
       "      <td>0.474843</td>\n",
       "      <td>0.326902</td>\n",
       "      <td>-0.167114</td>\n",
       "      <td>0.061263</td>\n",
       "      <td>0.148377</td>\n",
       "      <td>-0.246305</td>\n",
       "      <td>...</td>\n",
       "      <td>1.689336</td>\n",
       "      <td>-0.013166</td>\n",
       "      <td>-0.972081</td>\n",
       "      <td>-0.238541</td>\n",
       "      <td>-0.184152</td>\n",
       "      <td>-0.035221</td>\n",
       "      <td>0.867470</td>\n",
       "      <td>-0.023491</td>\n",
       "      <td>0.069166</td>\n",
       "      <td>-0.350766</td>\n",
       "    </tr>\n",
       "    <tr>\n",
       "      <th>70930</th>\n",
       "      <td>1.133863</td>\n",
       "      <td>-0.167043</td>\n",
       "      <td>0.037481</td>\n",
       "      <td>0.510938</td>\n",
       "      <td>-0.703720</td>\n",
       "      <td>0.742325</td>\n",
       "      <td>0.632725</td>\n",
       "      <td>0.479276</td>\n",
       "      <td>-0.191561</td>\n",
       "      <td>0.883539</td>\n",
       "      <td>...</td>\n",
       "      <td>-1.773476</td>\n",
       "      <td>1.460208</td>\n",
       "      <td>0.446476</td>\n",
       "      <td>-0.089949</td>\n",
       "      <td>1.565077</td>\n",
       "      <td>-0.542990</td>\n",
       "      <td>-0.777809</td>\n",
       "      <td>-0.811173</td>\n",
       "      <td>-0.576411</td>\n",
       "      <td>-0.156526</td>\n",
       "    </tr>\n",
       "    <tr>\n",
       "      <th>70931</th>\n",
       "      <td>-1.410717</td>\n",
       "      <td>0.530523</td>\n",
       "      <td>-0.666306</td>\n",
       "      <td>1.072431</td>\n",
       "      <td>-0.740712</td>\n",
       "      <td>-1.121303</td>\n",
       "      <td>0.947876</td>\n",
       "      <td>-1.340726</td>\n",
       "      <td>0.580306</td>\n",
       "      <td>2.561573</td>\n",
       "      <td>...</td>\n",
       "      <td>1.056478</td>\n",
       "      <td>-0.470254</td>\n",
       "      <td>0.931167</td>\n",
       "      <td>-0.183821</td>\n",
       "      <td>1.655610</td>\n",
       "      <td>-0.207405</td>\n",
       "      <td>0.625714</td>\n",
       "      <td>0.330274</td>\n",
       "      <td>0.036404</td>\n",
       "      <td>-0.323018</td>\n",
       "    </tr>\n",
       "  </tbody>\n",
       "</table>\n",
       "<p>70932 rows × 27 columns</p>\n",
       "</div>"
      ],
      "text/plain": [
       "           Time        V1        V2        V3        V4        V5        V6  \\\n",
       "0     -0.541339  0.532325 -0.451390  0.106290  0.471926  0.823042  3.592607   \n",
       "1     -0.297442 -2.442473  2.610237 -0.608590 -0.635383 -0.647578 -0.593118   \n",
       "2     -1.131650 -0.789799 -0.150004  1.033593 -1.439221 -0.273696 -1.008606   \n",
       "3     -1.985435  0.106866  0.403157  0.865704  0.121023 -0.301823 -0.392928   \n",
       "4      1.390508 -0.141753  0.500385  0.368985  0.273507  0.993784  1.492061   \n",
       "...         ...       ...       ...       ...       ...       ...       ...   \n",
       "70927  1.313866 -0.430452  0.456316 -0.538911  0.664789  0.061693  0.101684   \n",
       "70928  1.269529  1.044372  0.367302 -2.105797  0.438979  0.903753 -1.034673   \n",
       "70929 -1.276736  0.578876  0.263610 -0.413349  0.474843  0.326902 -0.167114   \n",
       "70930  1.133863 -0.167043  0.037481  0.510938 -0.703720  0.742325  0.632725   \n",
       "70931 -1.410717  0.530523 -0.666306  1.072431 -0.740712 -1.121303  0.947876   \n",
       "\n",
       "             V7        V8        V9  ...       V17       V18       V19  \\\n",
       "0     -1.286340  1.117282  1.428482  ... -0.220744  0.270836  0.661376   \n",
       "1      0.270429  0.500496  2.509212  ...  0.178984 -1.132836 -1.146412   \n",
       "2      0.134599 -0.017722 -1.343700  ... -0.421597  0.886261 -1.783484   \n",
       "3     -0.034329 -0.709868 -0.482173  ... -0.673512 -0.121177  0.002695   \n",
       "4      0.265172  0.438964 -0.813240  ...  1.078822  0.026860  2.575595   \n",
       "...         ...       ...       ...  ...       ...       ...       ...   \n",
       "70927  1.253490  0.374964 -0.772639  ...  0.247460  0.663149  1.232974   \n",
       "70928  0.562940 -0.254930 -0.124512  ...  2.372229  1.327738 -0.028363   \n",
       "70929  0.061263  0.148377 -0.246305  ...  1.689336 -0.013166 -0.972081   \n",
       "70930  0.479276 -0.191561  0.883539  ... -1.773476  1.460208  0.446476   \n",
       "70931 -1.340726  0.580306  2.561573  ...  1.056478 -0.470254  0.931167   \n",
       "\n",
       "            V20       V22       V23       V26       V27       V28    Amount  \n",
       "0      0.064868 -0.044860 -0.277746 -0.453108  0.256014  0.118848 -0.128777  \n",
       "1      2.687556 -1.049770  0.240204  0.019417  1.091174 -1.308897 -0.315089  \n",
       "2     -0.430475 -1.315635 -0.238984  2.306768 -1.273816 -0.747208 -0.168418  \n",
       "3     -0.228493 -1.329706 -0.022586  0.297650  0.112048  0.380093 -0.338874  \n",
       "4      0.215565  1.600293 -0.905168  1.161402  0.324701  0.141082 -0.342838  \n",
       "...         ...       ...       ...       ...       ...       ...       ...  \n",
       "70927  0.384450  0.708843  0.522640 -0.885816  0.546808  0.564698  0.537189  \n",
       "70928 -0.197497  0.094463 -0.066481  1.382534 -0.229371 -0.073449 -0.350766  \n",
       "70929 -0.238541 -0.184152 -0.035221  0.867470 -0.023491  0.069166 -0.350766  \n",
       "70930 -0.089949  1.565077 -0.542990 -0.777809 -0.811173 -0.576411 -0.156526  \n",
       "70931 -0.183821  1.655610 -0.207405  0.625714  0.330274  0.036404 -0.323018  \n",
       "\n",
       "[70932 rows x 27 columns]"
      ]
     },
     "execution_count": 94,
     "metadata": {},
     "output_type": "execute_result"
    }
   ],
   "source": [
    "# Subset X test data with selected features\n",
    "X_test_rfe = df_2[[\"Time\", \"V1\", \"V2\", \"V3\", \"V4\", \"V5\", \"V6\", \"V7\", \"V8\", \"V9\", \"V10\", \"V11\", \"V12\", \"V13\", \"V14\", \"V15\", \"V16\", \"V17\", \"V18\", \"V19\", \"V20\", \"V22\", \"V23\", \"V26\", \"V27\", \"V28\", \"Amount\"]]\n",
    "X_test_rfe"
   ]
  },
  {
   "cell_type": "code",
   "execution_count": 95,
   "metadata": {},
   "outputs": [
    {
     "data": {
      "text/plain": [
       "0    70820\n",
       "1      112\n",
       "Name: Class, dtype: int64"
      ]
     },
     "execution_count": 95,
     "metadata": {},
     "output_type": "execute_result"
    }
   ],
   "source": [
    "# Check y test data is representative of both 0 and 1 classes\n",
    "y_test.value_counts() #yes, it is"
   ]
  },
  {
   "cell_type": "code",
   "execution_count": 96,
   "metadata": {},
   "outputs": [
    {
     "name": "stdout",
     "output_type": "stream",
     "text": [
      "(424866, 30)\n",
      "(424866,)\n",
      "(70932, 30)\n",
      "(70932,)\n",
      "(424866, 27)\n",
      "(424866,)\n",
      "(70932, 27)\n",
      "(70932,)\n",
      "(424866, 15)\n",
      "(424866,)\n",
      "(70932, 15)\n",
      "(70932,)\n"
     ]
    }
   ],
   "source": [
    "# Without RFE or PCA\n",
    "print(X_train_sc_smote.shape) # X train set\n",
    "print(y_train_smote.shape) # y train set\n",
    "print(X_test_sc.shape) # X test set\n",
    "print(y_test.shape) # y test set\n",
    "\n",
    "# With RFE\n",
    "print(X_train_rfe.shape) # X train set\n",
    "print(y_train_smote.shape) # y train set\n",
    "print(X_test_rfe.shape) # X test set\n",
    "print(y_test.shape) # y tset set\n",
    "\n",
    "# With PCA\n",
    "print(X_smote_pca_15.shape) # X train set\n",
    "print(y_train_smote.shape) # y train set\n",
    "print(X_test_pca_15.shape) # X test set\n",
    "print(y_test.shape) # y test set"
   ]
  },
  {
   "cell_type": "markdown",
   "metadata": {},
   "source": [
    "### <a id=\"i1_ID\">9.1 Logistic Regression with 10-fold Cross-validation</a>"
   ]
  },
  {
   "cell_type": "markdown",
   "metadata": {},
   "source": [
    "### Without RFE or PCA"
   ]
  },
  {
   "cell_type": "code",
   "execution_count": 322,
   "metadata": {},
   "outputs": [
    {
     "data": {
      "text/plain": [
       "LogisticRegressionCV(max_iter=5000, random_state=25)"
      ]
     },
     "execution_count": 322,
     "metadata": {},
     "output_type": "execute_result"
    }
   ],
   "source": [
    "# Train a logistic regression model on the train set\n",
    "from sklearn.linear_model import LogisticRegressionCV\n",
    "logreg = LogisticRegressionCV(max_iter=5000, random_state = 25)\n",
    "logreg.fit(X_train_sc_smote, y_train_smote)"
   ]
  },
  {
   "cell_type": "code",
   "execution_count": 323,
   "metadata": {},
   "outputs": [],
   "source": [
    "# Make class predictions for the test set\n",
    "y_pred_class = logreg.predict(X_test_sc)"
   ]
  },
  {
   "cell_type": "code",
   "execution_count": 327,
   "metadata": {},
   "outputs": [
    {
     "data": {
      "text/plain": [
       "array([[68991,  1829],\n",
       "       [   10,   102]], dtype=int64)"
      ]
     },
     "execution_count": 327,
     "metadata": {},
     "output_type": "execute_result"
    }
   ],
   "source": [
    "# Confusion matrix\n",
    "# Note: first argument is true values, second argument is predicted values\n",
    "from sklearn.metrics import confusion_matrix\n",
    "cm = confusion_matrix(y_test, y_pred_class)\n",
    "cm"
   ]
  },
  {
   "cell_type": "code",
   "execution_count": 329,
   "metadata": {},
   "outputs": [
    {
     "data": {
      "image/png": "[encoded data removed]",
      "text/plain": [
       "<Figure size 432x288 with 1 Axes>"
      ]
     },
     "metadata": {
      "needs_background": "light"
     },
     "output_type": "display_data"
    }
   ],
   "source": [
    "import matplotlib.pyplot as plt\n",
    "import seaborn as sns;\n",
    "faceLabels = ['Genuine (0)','Fradulent (1)']\n",
    "mat = confusion_matrix(y_test, y_pred_class)\n",
    "sns.heatmap(mat.T, square=True, annot=True, fmt='d', cbar=False,\n",
    "            xticklabels = faceLabels, cmap=\"BuPu\", linecolor='black', linewidths=1,\n",
    "            yticklabels = faceLabels)\n",
    "plt.xlabel('Actual Label')\n",
    "plt.ylabel('Predicted Label');\n",
    "plt.show()"
   ]
  },
  {
   "cell_type": "code",
   "execution_count": 330,
   "metadata": {},
   "outputs": [
    {
     "name": "stdout",
     "output_type": "stream",
     "text": [
      "[[68991  1829]\n",
      " [   10   102]]\n",
      "True Positive:  102\n",
      "True Negative:  68991\n",
      "False Positive:  1829\n",
      "False Negative:  10\n"
     ]
    }
   ],
   "source": [
    "# Save confusion matrix and slice into four sections\n",
    "confusion = metrics.confusion_matrix(y_test, y_pred_class)\n",
    "print(confusion)\n",
    "TP = confusion[1, 1]\n",
    "TN = confusion[0, 0]\n",
    "FP = confusion[0, 1]\n",
    "FN = confusion[1, 0]\n",
    "print(\"True Positive: \",TP)\n",
    "print(\"True Negative: \",TN)\n",
    "print(\"False Positive: \",FP)\n",
    "print(\"False Negative: \",FN)"
   ]
  },
  {
   "cell_type": "code",
   "execution_count": 331,
   "metadata": {},
   "outputs": [
    {
     "name": "stdout",
     "output_type": "stream",
     "text": [
      "0.9740737607849772\n"
     ]
    }
   ],
   "source": [
    "# Classification Accuracy\n",
    "#print((TP + TN) / float(TP + TN + FP + FN))\n",
    "print(metrics.accuracy_score(y_test, y_pred_class))"
   ]
  },
  {
   "cell_type": "code",
   "execution_count": 332,
   "metadata": {},
   "outputs": [
    {
     "name": "stdout",
     "output_type": "stream",
     "text": [
      "0.025926239215022795\n"
     ]
    }
   ],
   "source": [
    "# Classification Error\n",
    "#print((FP + FN) / float(TP + TN + FP + FN))\n",
    "print(1 - metrics.accuracy_score(y_test, y_pred_class))"
   ]
  },
  {
   "cell_type": "code",
   "execution_count": 343,
   "metadata": {},
   "outputs": [
    {
     "name": "stdout",
     "output_type": "stream",
     "text": [
      "0.9107142857142857\n"
     ]
    }
   ],
   "source": [
    "# Sensitivity or Recall\n",
    "recall = (TP / float(TP + FN))\n",
    "#print(TP / float(TP + FN))\n",
    "print(metrics.recall_score(y_test, y_pred_class))"
   ]
  },
  {
   "cell_type": "code",
   "execution_count": 344,
   "metadata": {},
   "outputs": [
    {
     "name": "stdout",
     "output_type": "stream",
     "text": [
      "0.9741739621575826\n"
     ]
    }
   ],
   "source": [
    "# Specificity\n",
    "print(TN / float(TN + FP))"
   ]
  },
  {
   "cell_type": "code",
   "execution_count": 345,
   "metadata": {},
   "outputs": [
    {
     "name": "stdout",
     "output_type": "stream",
     "text": [
      "0.05282237182806836\n"
     ]
    }
   ],
   "source": [
    "# Precision\n",
    "precision = (TP / float(TP + FP))\n",
    "print(TP / float(TP + FP))"
   ]
  },
  {
   "cell_type": "code",
   "execution_count": 346,
   "metadata": {},
   "outputs": [
    {
     "name": "stdout",
     "output_type": "stream",
     "text": [
      "0.025826037842417396\n"
     ]
    }
   ],
   "source": [
    "# False Positive Rate\n",
    "print(FP / float(TN + FP))"
   ]
  },
  {
   "cell_type": "code",
   "execution_count": 347,
   "metadata": {},
   "outputs": [
    {
     "name": "stdout",
     "output_type": "stream",
     "text": [
      "0.09985315712187959\n"
     ]
    }
   ],
   "source": [
    "# F-measure\n",
    "print((2 * precision * recall) / (precision + recall))"
   ]
  },
  {
   "cell_type": "code",
   "execution_count": 348,
   "metadata": {},
   "outputs": [
    {
     "name": "stdout",
     "output_type": "stream",
     "text": [
      "0.942444123935934\n"
     ]
    }
   ],
   "source": [
    "# AUC\n",
    "print(metrics.roc_auc_score(y_test, y_pred_class))"
   ]
  },
  {
   "cell_type": "code",
   "execution_count": 350,
   "metadata": {},
   "outputs": [
    {
     "data": {
      "image/png": "[encoded data removed]",
      "text/plain": [
       "<Figure size 432x288 with 1 Axes>"
      ]
     },
     "metadata": {
      "needs_background": "light"
     },
     "output_type": "display_data"
    }
   ],
   "source": [
    "# ROC Curve\n",
    "fpr, tpr, thresholds = metrics.roc_curve(y_test, y_pred_class)\n",
    "plt.plot(fpr, tpr)\n",
    "plt.plot([0,1], [0,1], linestyle=':', c='black')\n",
    "plt.xlim([0.0, 1.0])\n",
    "plt.ylim([0.0, 1.0])\n",
    "plt.title('ROC Curve')\n",
    "plt.xlabel('False Positive Rate (1 - Specificity)')\n",
    "plt.ylabel('True Positive Rate (Sensitivity)')\n",
    "plt.grid(True)"
   ]
  },
  {
   "cell_type": "code",
   "execution_count": 351,
   "metadata": {},
   "outputs": [
    {
     "name": "stdout",
     "output_type": "stream",
     "text": [
      "              precision    recall  f1-score   support\n",
      "\n",
      "           0       1.00      0.97      0.99     70820\n",
      "           1       0.05      0.91      0.10       112\n",
      "\n",
      "    accuracy                           0.97     70932\n",
      "   macro avg       0.53      0.94      0.54     70932\n",
      "weighted avg       1.00      0.97      0.99     70932\n",
      "\n"
     ]
    }
   ],
   "source": [
    "from sklearn.metrics import classification_report\n",
    "print(classification_report(y_test,y_pred_class))"
   ]
  },
  {
   "cell_type": "markdown",
   "metadata": {},
   "source": [
    "### With RFE"
   ]
  },
  {
   "cell_type": "code",
   "execution_count": 352,
   "metadata": {},
   "outputs": [
    {
     "data": {
      "text/plain": [
       "LogisticRegressionCV(max_iter=5000, random_state=25)"
      ]
     },
     "execution_count": 352,
     "metadata": {},
     "output_type": "execute_result"
    }
   ],
   "source": [
    "# Train a logistic regression model on the train set\n",
    "from sklearn.linear_model import LogisticRegressionCV\n",
    "logreg = LogisticRegressionCV(max_iter=5000, random_state = 25)\n",
    "logreg.fit(X_train_rfe, y_train_smote)"
   ]
  },
  {
   "cell_type": "code",
   "execution_count": 353,
   "metadata": {},
   "outputs": [],
   "source": [
    "# Make class predictions for the test set\n",
    "y_pred_class = logreg.predict(X_test_rfe)"
   ]
  },
  {
   "cell_type": "code",
   "execution_count": 355,
   "metadata": {},
   "outputs": [
    {
     "data": {
      "text/plain": [
       "array([[68984,  1836],\n",
       "       [   10,   102]], dtype=int64)"
      ]
     },
     "execution_count": 355,
     "metadata": {},
     "output_type": "execute_result"
    }
   ],
   "source": [
    "# Confusion matrix\n",
    "# Note: first argument is true values, second argument is predicted values\n",
    "from sklearn.metrics import confusion_matrix\n",
    "cm = confusion_matrix(y_test, y_pred_class)\n",
    "cm"
   ]
  },
  {
   "cell_type": "code",
   "execution_count": 360,
   "metadata": {},
   "outputs": [
    {
     "data": {
      "image/png": "[encoded data removed]",
      "text/plain": [
       "<Figure size 432x288 with 1 Axes>"
      ]
     },
     "metadata": {
      "needs_background": "light"
     },
     "output_type": "display_data"
    }
   ],
   "source": [
    "import matplotlib.pyplot as plt\n",
    "import seaborn as sns;\n",
    "faceLabels = ['Genuine (0)','Fradulent (1)']\n",
    "mat = confusion_matrix(y_test, y_pred_class)\n",
    "sns.heatmap(mat.T, square=True, annot=True, fmt='d', cbar=False,\n",
    "            xticklabels = faceLabels, cmap=\"BuPu\", linecolor='black', linewidths=1,\n",
    "            yticklabels = faceLabels)\n",
    "plt.xlabel('Actual Label')\n",
    "plt.ylabel('Predicted Label');\n",
    "plt.show()"
   ]
  },
  {
   "cell_type": "code",
   "execution_count": 361,
   "metadata": {},
   "outputs": [
    {
     "name": "stdout",
     "output_type": "stream",
     "text": [
      "[[68984  1836]\n",
      " [   10   102]]\n",
      "True Positive:  102\n",
      "True Negative:  68984\n",
      "False Positive:  1836\n",
      "False Negative:  10\n"
     ]
    }
   ],
   "source": [
    "# Save confusion matrix and slice into four sections\n",
    "confusion = metrics.confusion_matrix(y_test, y_pred_class)\n",
    "print(confusion)\n",
    "TP = confusion[1, 1]\n",
    "TN = confusion[0, 0]\n",
    "FP = confusion[0, 1]\n",
    "FN = confusion[1, 0]\n",
    "print(\"True Positive: \",TP)\n",
    "print(\"True Negative: \",TN)\n",
    "print(\"False Positive: \",FP)\n",
    "print(\"False Negative: \",FN)"
   ]
  },
  {
   "cell_type": "code",
   "execution_count": 362,
   "metadata": {},
   "outputs": [
    {
     "name": "stdout",
     "output_type": "stream",
     "text": [
      "0.9739750747194497\n"
     ]
    }
   ],
   "source": [
    "# Classification Accuracy\n",
    "#print((TP + TN) / float(TP + TN + FP + FN))\n",
    "print(metrics.accuracy_score(y_test, y_pred_class))"
   ]
  },
  {
   "cell_type": "code",
   "execution_count": 363,
   "metadata": {},
   "outputs": [
    {
     "name": "stdout",
     "output_type": "stream",
     "text": [
      "0.026024925280550337\n"
     ]
    }
   ],
   "source": [
    "# Classification Error\n",
    "#print((FP + FN) / float(TP + TN + FP + FN))\n",
    "print(1 - metrics.accuracy_score(y_test, y_pred_class))"
   ]
  },
  {
   "cell_type": "code",
   "execution_count": 364,
   "metadata": {},
   "outputs": [
    {
     "name": "stdout",
     "output_type": "stream",
     "text": [
      "0.9107142857142857\n"
     ]
    }
   ],
   "source": [
    "# Sensitivity or Recall\n",
    "recall = (TP / float(TP + FN))\n",
    "#print(TP / float(TP + FN))\n",
    "print(metrics.recall_score(y_test, y_pred_class))"
   ]
  },
  {
   "cell_type": "code",
   "execution_count": 365,
   "metadata": {},
   "outputs": [
    {
     "name": "stdout",
     "output_type": "stream",
     "text": [
      "0.9740751200225924\n"
     ]
    }
   ],
   "source": [
    "# Specificity\n",
    "print(TN / float(TN + FP))"
   ]
  },
  {
   "cell_type": "code",
   "execution_count": 366,
   "metadata": {},
   "outputs": [
    {
     "name": "stdout",
     "output_type": "stream",
     "text": [
      "0.05263157894736842\n"
     ]
    }
   ],
   "source": [
    "# Precision\n",
    "precision = (TP / float(TP + FP))\n",
    "print(TP / float(TP + FP))"
   ]
  },
  {
   "cell_type": "code",
   "execution_count": 367,
   "metadata": {},
   "outputs": [
    {
     "name": "stdout",
     "output_type": "stream",
     "text": [
      "0.02592487997740751\n"
     ]
    }
   ],
   "source": [
    "# False Positive Rate\n",
    "print(FP / float(TN + FP))"
   ]
  },
  {
   "cell_type": "code",
   "execution_count": 368,
   "metadata": {},
   "outputs": [
    {
     "name": "stdout",
     "output_type": "stream",
     "text": [
      "0.09951219512195121\n"
     ]
    }
   ],
   "source": [
    "# F-measure\n",
    "print((2 * precision * recall) / (precision + recall))"
   ]
  },
  {
   "cell_type": "code",
   "execution_count": 369,
   "metadata": {},
   "outputs": [
    {
     "name": "stdout",
     "output_type": "stream",
     "text": [
      "0.942394702868439\n"
     ]
    }
   ],
   "source": [
    "# AUC\n",
    "print(metrics.roc_auc_score(y_test, y_pred_class))"
   ]
  },
  {
   "cell_type": "code",
   "execution_count": 370,
   "metadata": {},
   "outputs": [
    {
     "data": {
      "image/png": "[encoded data removed]",
      "text/plain": [
       "<Figure size 432x288 with 1 Axes>"
      ]
     },
     "metadata": {
      "needs_background": "light"
     },
     "output_type": "display_data"
    }
   ],
   "source": [
    "# ROC Curve\n",
    "fpr, tpr, thresholds = metrics.roc_curve(y_test, y_pred_class)\n",
    "plt.plot(fpr, tpr)\n",
    "plt.plot([0,1], [0,1], linestyle=':', c='black')\n",
    "plt.xlim([0.0, 1.0])\n",
    "plt.ylim([0.0, 1.0])\n",
    "plt.title('ROC Curve')\n",
    "plt.xlabel('False Positive Rate (1 - Specificity)')\n",
    "plt.ylabel('True Positive Rate (Sensitivity)')\n",
    "plt.grid(True)"
   ]
  },
  {
   "cell_type": "code",
   "execution_count": 371,
   "metadata": {},
   "outputs": [
    {
     "name": "stdout",
     "output_type": "stream",
     "text": [
      "              precision    recall  f1-score   support\n",
      "\n",
      "           0       1.00      0.97      0.99     70820\n",
      "           1       0.05      0.91      0.10       112\n",
      "\n",
      "    accuracy                           0.97     70932\n",
      "   macro avg       0.53      0.94      0.54     70932\n",
      "weighted avg       1.00      0.97      0.99     70932\n",
      "\n"
     ]
    }
   ],
   "source": [
    "from sklearn.metrics import classification_report\n",
    "print(classification_report(y_test,y_pred_class))"
   ]
  },
  {
   "cell_type": "markdown",
   "metadata": {},
   "source": [
    "### With PCA"
   ]
  },
  {
   "cell_type": "code",
   "execution_count": 372,
   "metadata": {},
   "outputs": [
    {
     "data": {
      "text/plain": [
       "LogisticRegressionCV(max_iter=5000, random_state=25)"
      ]
     },
     "execution_count": 372,
     "metadata": {},
     "output_type": "execute_result"
    }
   ],
   "source": [
    "# Train a logistic regression model on the train set\n",
    "from sklearn.linear_model import LogisticRegressionCV\n",
    "logreg = LogisticRegressionCV(max_iter=5000, random_state = 25)\n",
    "logreg.fit(X_smote_pca_15, y_train_smote)"
   ]
  },
  {
   "cell_type": "code",
   "execution_count": 373,
   "metadata": {},
   "outputs": [],
   "source": [
    "# Make class predictions for the test set\n",
    "y_pred_class = logreg.predict(X_test_pca_15)"
   ]
  },
  {
   "cell_type": "code",
   "execution_count": 375,
   "metadata": {},
   "outputs": [
    {
     "data": {
      "text/plain": [
       "array([[68934,  1886],\n",
       "       [   12,   100]], dtype=int64)"
      ]
     },
     "execution_count": 375,
     "metadata": {},
     "output_type": "execute_result"
    }
   ],
   "source": [
    "# Confusion matrix\n",
    "# Note: first argument is true values, second argument is predicted values\n",
    "from sklearn.metrics import confusion_matrix\n",
    "cm = confusion_matrix(y_test, y_pred_class)\n",
    "cm"
   ]
  },
  {
   "cell_type": "code",
   "execution_count": 376,
   "metadata": {},
   "outputs": [
    {
     "data": {
      "image/png": "[encoded data removed]",
      "text/plain": [
       "<Figure size 432x288 with 1 Axes>"
      ]
     },
     "metadata": {
      "needs_background": "light"
     },
     "output_type": "display_data"
    }
   ],
   "source": [
    "import matplotlib.pyplot as plt\n",
    "import seaborn as sns;\n",
    "faceLabels = ['Genuine (0)','Fradulent (1)']\n",
    "mat = confusion_matrix(y_test, y_pred_class)\n",
    "sns.heatmap(mat.T, square=True, annot=True, fmt='d', cbar=False,\n",
    "            xticklabels = faceLabels, cmap=\"BuPu\", linecolor='black', linewidths=1,\n",
    "            yticklabels = faceLabels)\n",
    "plt.xlabel('Actual Label')\n",
    "plt.ylabel('Predicted Label');\n",
    "plt.show()"
   ]
  },
  {
   "cell_type": "code",
   "execution_count": 377,
   "metadata": {},
   "outputs": [
    {
     "name": "stdout",
     "output_type": "stream",
     "text": [
      "[[68934  1886]\n",
      " [   12   100]]\n",
      "True Positive:  100\n",
      "True Negative:  68934\n",
      "False Positive:  1886\n",
      "False Negative:  12\n"
     ]
    }
   ],
   "source": [
    "# Save confusion matrix and slice into four sections\n",
    "confusion = metrics.confusion_matrix(y_test, y_pred_class)\n",
    "print(confusion)\n",
    "TP = confusion[1, 1]\n",
    "TN = confusion[0, 0]\n",
    "FP = confusion[0, 1]\n",
    "FN = confusion[1, 0]\n",
    "print(\"True Positive: \",TP)\n",
    "print(\"True Negative: \",TN)\n",
    "print(\"False Positive: \",FP)\n",
    "print(\"False Negative: \",FN)"
   ]
  },
  {
   "cell_type": "code",
   "execution_count": 378,
   "metadata": {},
   "outputs": [
    {
     "name": "stdout",
     "output_type": "stream",
     "text": [
      "0.9732419782326736\n"
     ]
    }
   ],
   "source": [
    "# Classification Accuracy\n",
    "#print((TP + TN) / float(TP + TN + FP + FN))\n",
    "print(metrics.accuracy_score(y_test, y_pred_class))"
   ]
  },
  {
   "cell_type": "code",
   "execution_count": 379,
   "metadata": {},
   "outputs": [
    {
     "name": "stdout",
     "output_type": "stream",
     "text": [
      "0.026758021767326445\n"
     ]
    }
   ],
   "source": [
    "# Classification Error\n",
    "#print((FP + FN) / float(TP + TN + FP + FN))\n",
    "print(1 - metrics.accuracy_score(y_test, y_pred_class))"
   ]
  },
  {
   "cell_type": "code",
   "execution_count": 380,
   "metadata": {},
   "outputs": [
    {
     "name": "stdout",
     "output_type": "stream",
     "text": [
      "0.8928571428571429\n"
     ]
    }
   ],
   "source": [
    "# Sensitivity or Recall\n",
    "recall = (TP / float(TP + FN))\n",
    "#print(TP / float(TP + FN))\n",
    "print(metrics.recall_score(y_test, y_pred_class))"
   ]
  },
  {
   "cell_type": "code",
   "execution_count": 381,
   "metadata": {},
   "outputs": [
    {
     "name": "stdout",
     "output_type": "stream",
     "text": [
      "0.9733691047726631\n"
     ]
    }
   ],
   "source": [
    "# Specificity\n",
    "print(TN / float(TN + FP))"
   ]
  },
  {
   "cell_type": "code",
   "execution_count": 382,
   "metadata": {},
   "outputs": [
    {
     "name": "stdout",
     "output_type": "stream",
     "text": [
      "0.050352467270896276\n"
     ]
    }
   ],
   "source": [
    "# Precision\n",
    "precision = (TP / float(TP + FP))\n",
    "print(TP / float(TP + FP))"
   ]
  },
  {
   "cell_type": "code",
   "execution_count": 383,
   "metadata": {},
   "outputs": [
    {
     "name": "stdout",
     "output_type": "stream",
     "text": [
      "0.02663089522733691\n"
     ]
    }
   ],
   "source": [
    "# False Positive Rate\n",
    "print(FP / float(TN + FP))"
   ]
  },
  {
   "cell_type": "code",
   "execution_count": 384,
   "metadata": {},
   "outputs": [
    {
     "name": "stdout",
     "output_type": "stream",
     "text": [
      "0.09532888465204957\n"
     ]
    }
   ],
   "source": [
    "# F-measure\n",
    "print((2 * precision * recall) / (precision + recall))"
   ]
  },
  {
   "cell_type": "code",
   "execution_count": 385,
   "metadata": {},
   "outputs": [
    {
     "name": "stdout",
     "output_type": "stream",
     "text": [
      "0.933113123814903\n"
     ]
    }
   ],
   "source": [
    "# AUC\n",
    "print(metrics.roc_auc_score(y_test, y_pred_class))"
   ]
  },
  {
   "cell_type": "code",
   "execution_count": 386,
   "metadata": {},
   "outputs": [
    {
     "data": {
      "image/png": "[encoded data removed]",
      "text/plain": [
       "<Figure size 432x288 with 1 Axes>"
      ]
     },
     "metadata": {
      "needs_background": "light"
     },
     "output_type": "display_data"
    }
   ],
   "source": [
    "# ROC Curve\n",
    "fpr, tpr, thresholds = metrics.roc_curve(y_test, y_pred_class)\n",
    "plt.plot(fpr, tpr)\n",
    "plt.plot([0,1], [0,1], linestyle=':', c='black')\n",
    "plt.xlim([0.0, 1.0])\n",
    "plt.ylim([0.0, 1.0])\n",
    "plt.title('ROC Curve')\n",
    "plt.xlabel('False Positive Rate (1 - Specificity)')\n",
    "plt.ylabel('True Positive Rate (Sensitivity)')\n",
    "plt.grid(True)"
   ]
  },
  {
   "cell_type": "code",
   "execution_count": 387,
   "metadata": {},
   "outputs": [
    {
     "name": "stdout",
     "output_type": "stream",
     "text": [
      "              precision    recall  f1-score   support\n",
      "\n",
      "           0       1.00      0.97      0.99     70820\n",
      "           1       0.05      0.89      0.10       112\n",
      "\n",
      "    accuracy                           0.97     70932\n",
      "   macro avg       0.53      0.93      0.54     70932\n",
      "weighted avg       1.00      0.97      0.99     70932\n",
      "\n"
     ]
    }
   ],
   "source": [
    "from sklearn.metrics import classification_report\n",
    "print(classification_report(y_test,y_pred_class))"
   ]
  },
  {
   "cell_type": "markdown",
   "metadata": {},
   "source": [
    "### <a id=\"i2_ID\">9.2 Naive Bayes</a>"
   ]
  },
  {
   "cell_type": "markdown",
   "metadata": {},
   "source": [
    "### Without RFE or PCA"
   ]
  },
  {
   "cell_type": "code",
   "execution_count": 388,
   "metadata": {},
   "outputs": [
    {
     "data": {
      "text/plain": [
       "GaussianNB()"
      ]
     },
     "execution_count": 388,
     "metadata": {},
     "output_type": "execute_result"
    }
   ],
   "source": [
    "# Train a Naive Bayes model on the train set\n",
    "from sklearn.naive_bayes import GaussianNB\n",
    "gnb = GaussianNB()\n",
    "gnb.fit(X_train_sc_smote, y_train_smote)"
   ]
  },
  {
   "cell_type": "code",
   "execution_count": 389,
   "metadata": {},
   "outputs": [],
   "source": [
    "# Make class predictions for the test set\n",
    "y_pred_class = gnb.predict(X_test_sc)"
   ]
  },
  {
   "cell_type": "code",
   "execution_count": 391,
   "metadata": {},
   "outputs": [
    {
     "data": {
      "text/plain": [
       "array([[69118,  1702],\n",
       "       [   19,    93]], dtype=int64)"
      ]
     },
     "execution_count": 391,
     "metadata": {},
     "output_type": "execute_result"
    }
   ],
   "source": [
    "# Confusion matrix\n",
    "# Note: first argument is true values, second argument is predicted values\n",
    "from sklearn.metrics import confusion_matrix\n",
    "cm = confusion_matrix(y_test, y_pred_class)\n",
    "cm"
   ]
  },
  {
   "cell_type": "code",
   "execution_count": 392,
   "metadata": {},
   "outputs": [
    {
     "data": {
      "image/png": "[encoded data removed]",
      "text/plain": [
       "<Figure size 432x288 with 1 Axes>"
      ]
     },
     "metadata": {
      "needs_background": "light"
     },
     "output_type": "display_data"
    }
   ],
   "source": [
    "import matplotlib.pyplot as plt\n",
    "import seaborn as sns;\n",
    "faceLabels = ['Genuine (0)','Fradulent (1)']\n",
    "mat = confusion_matrix(y_test, y_pred_class)\n",
    "sns.heatmap(mat.T, square=True, annot=True, fmt='d', cbar=False,\n",
    "            xticklabels = faceLabels, cmap=\"BuPu\", linecolor='black', linewidths=1,\n",
    "            yticklabels = faceLabels)\n",
    "plt.xlabel('Actual Label')\n",
    "plt.ylabel('Predicted Label');\n",
    "plt.show()"
   ]
  },
  {
   "cell_type": "code",
   "execution_count": 393,
   "metadata": {},
   "outputs": [
    {
     "name": "stdout",
     "output_type": "stream",
     "text": [
      "[[69118  1702]\n",
      " [   19    93]]\n",
      "True Positive:  93\n",
      "True Negative:  69118\n",
      "False Positive:  1702\n",
      "False Negative:  19\n"
     ]
    }
   ],
   "source": [
    "# Save confusion matrix and slice into four sections\n",
    "confusion = metrics.confusion_matrix(y_test, y_pred_class)\n",
    "print(confusion)\n",
    "TP = confusion[1, 1]\n",
    "TN = confusion[0, 0]\n",
    "FP = confusion[0, 1]\n",
    "FN = confusion[1, 0]\n",
    "print(\"True Positive: \",TP)\n",
    "print(\"True Negative: \",TN)\n",
    "print(\"False Positive: \",FP)\n",
    "print(\"False Negative: \",FN)"
   ]
  },
  {
   "cell_type": "code",
   "execution_count": 394,
   "metadata": {},
   "outputs": [
    {
     "name": "stdout",
     "output_type": "stream",
     "text": [
      "0.9757373258895844\n"
     ]
    }
   ],
   "source": [
    "# Classification Accuracy\n",
    "#print((TP + TN) / float(TP + TN + FP + FN))\n",
    "print(metrics.accuracy_score(y_test, y_pred_class))"
   ]
  },
  {
   "cell_type": "code",
   "execution_count": 395,
   "metadata": {},
   "outputs": [
    {
     "name": "stdout",
     "output_type": "stream",
     "text": [
      "0.024262674110415605\n"
     ]
    }
   ],
   "source": [
    "# Classification Error\n",
    "#print((FP + FN) / float(TP + TN + FP + FN))\n",
    "print(1 - metrics.accuracy_score(y_test, y_pred_class))"
   ]
  },
  {
   "cell_type": "code",
   "execution_count": 396,
   "metadata": {},
   "outputs": [
    {
     "name": "stdout",
     "output_type": "stream",
     "text": [
      "0.8303571428571429\n"
     ]
    }
   ],
   "source": [
    "# Sensitivity or Recall\n",
    "recall = (TP / float(TP + FN))\n",
    "#print(TP / float(TP + FN))\n",
    "print(metrics.recall_score(y_test, y_pred_class))"
   ]
  },
  {
   "cell_type": "code",
   "execution_count": 397,
   "metadata": {},
   "outputs": [
    {
     "name": "stdout",
     "output_type": "stream",
     "text": [
      "0.9759672408924033\n"
     ]
    }
   ],
   "source": [
    "# Specificity\n",
    "print(TN / float(TN + FP))"
   ]
  },
  {
   "cell_type": "code",
   "execution_count": 398,
   "metadata": {},
   "outputs": [
    {
     "name": "stdout",
     "output_type": "stream",
     "text": [
      "0.05181058495821727\n"
     ]
    }
   ],
   "source": [
    "# Precision\n",
    "precision = (TP / float(TP + FP))\n",
    "print(TP / float(TP + FP))"
   ]
  },
  {
   "cell_type": "code",
   "execution_count": 399,
   "metadata": {},
   "outputs": [
    {
     "name": "stdout",
     "output_type": "stream",
     "text": [
      "0.024032759107596724\n"
     ]
    }
   ],
   "source": [
    "# False Positive Rate\n",
    "print(FP / float(TN + FP))"
   ]
  },
  {
   "cell_type": "code",
   "execution_count": 400,
   "metadata": {},
   "outputs": [
    {
     "name": "stdout",
     "output_type": "stream",
     "text": [
      "0.09753539590980598\n"
     ]
    }
   ],
   "source": [
    "# F-measure\n",
    "print((2 * precision * recall) / (precision + recall))"
   ]
  },
  {
   "cell_type": "code",
   "execution_count": 401,
   "metadata": {},
   "outputs": [
    {
     "name": "stdout",
     "output_type": "stream",
     "text": [
      "0.903162191874773\n"
     ]
    }
   ],
   "source": [
    "# AUC\n",
    "print(metrics.roc_auc_score(y_test, y_pred_class))"
   ]
  },
  {
   "cell_type": "code",
   "execution_count": 402,
   "metadata": {},
   "outputs": [
    {
     "data": {
      "image/png": "[encoded data removed]",
      "text/plain": [
       "<Figure size 432x288 with 1 Axes>"
      ]
     },
     "metadata": {
      "needs_background": "light"
     },
     "output_type": "display_data"
    }
   ],
   "source": [
    "# ROC Curve\n",
    "fpr, tpr, thresholds = metrics.roc_curve(y_test, y_pred_class)\n",
    "plt.plot(fpr, tpr)\n",
    "plt.plot([0,1], [0,1], linestyle=':', c='black')\n",
    "plt.xlim([0.0, 1.0])\n",
    "plt.ylim([0.0, 1.0])\n",
    "plt.title('ROC Curve')\n",
    "plt.xlabel('False Positive Rate (1 - Specificity)')\n",
    "plt.ylabel('True Positive Rate (Sensitivity)')\n",
    "plt.grid(True)"
   ]
  },
  {
   "cell_type": "code",
   "execution_count": 403,
   "metadata": {},
   "outputs": [
    {
     "name": "stdout",
     "output_type": "stream",
     "text": [
      "              precision    recall  f1-score   support\n",
      "\n",
      "           0       1.00      0.98      0.99     70820\n",
      "           1       0.05      0.83      0.10       112\n",
      "\n",
      "    accuracy                           0.98     70932\n",
      "   macro avg       0.53      0.90      0.54     70932\n",
      "weighted avg       1.00      0.98      0.99     70932\n",
      "\n"
     ]
    }
   ],
   "source": [
    "from sklearn.metrics import classification_report\n",
    "print(classification_report(y_test,y_pred_class))"
   ]
  },
  {
   "cell_type": "markdown",
   "metadata": {},
   "source": [
    "### With RFE"
   ]
  },
  {
   "cell_type": "code",
   "execution_count": 404,
   "metadata": {},
   "outputs": [
    {
     "data": {
      "text/plain": [
       "GaussianNB()"
      ]
     },
     "execution_count": 404,
     "metadata": {},
     "output_type": "execute_result"
    }
   ],
   "source": [
    "# Train a Naive Bayes model on the train set\n",
    "from sklearn.naive_bayes import GaussianNB\n",
    "gnb = GaussianNB()\n",
    "gnb.fit(X_train_rfe, y_train_smote)"
   ]
  },
  {
   "cell_type": "code",
   "execution_count": 405,
   "metadata": {},
   "outputs": [],
   "source": [
    "# Make class predictions for the test set\n",
    "y_pred_class = gnb.predict(X_test_rfe)"
   ]
  },
  {
   "cell_type": "code",
   "execution_count": 407,
   "metadata": {},
   "outputs": [
    {
     "data": {
      "text/plain": [
       "array([[69178,  1642],\n",
       "       [   19,    93]], dtype=int64)"
      ]
     },
     "execution_count": 407,
     "metadata": {},
     "output_type": "execute_result"
    }
   ],
   "source": [
    "# Confusion matrix\n",
    "# Note: first argument is true values, second argument is predicted values\n",
    "from sklearn.metrics import confusion_matrix\n",
    "cm = confusion_matrix(y_test, y_pred_class)\n",
    "cm"
   ]
  },
  {
   "cell_type": "code",
   "execution_count": 408,
   "metadata": {},
   "outputs": [
    {
     "data": {
      "image/png": "[encoded data removed]",
      "text/plain": [
       "<Figure size 432x288 with 1 Axes>"
      ]
     },
     "metadata": {
      "needs_background": "light"
     },
     "output_type": "display_data"
    }
   ],
   "source": [
    "import matplotlib.pyplot as plt\n",
    "import seaborn as sns;\n",
    "faceLabels = ['Genuine (0)','Fradulent (1)']\n",
    "mat = confusion_matrix(y_test, y_pred_class)\n",
    "sns.heatmap(mat.T, square=True, annot=True, fmt='d', cbar=False,\n",
    "            xticklabels = faceLabels, cmap=\"BuPu\", linecolor='black', linewidths=1,\n",
    "            yticklabels = faceLabels)\n",
    "plt.xlabel('Actual Label')\n",
    "plt.ylabel('Predicted Label');\n",
    "plt.show()"
   ]
  },
  {
   "cell_type": "code",
   "execution_count": 409,
   "metadata": {},
   "outputs": [
    {
     "name": "stdout",
     "output_type": "stream",
     "text": [
      "[[69178  1642]\n",
      " [   19    93]]\n",
      "True Positive:  93\n",
      "True Negative:  69178\n",
      "False Positive:  1642\n",
      "False Negative:  19\n"
     ]
    }
   ],
   "source": [
    "# Save confusion matrix and slice into four sections\n",
    "confusion = metrics.confusion_matrix(y_test, y_pred_class)\n",
    "print(confusion)\n",
    "TP = confusion[1, 1]\n",
    "TN = confusion[0, 0]\n",
    "FP = confusion[0, 1]\n",
    "FN = confusion[1, 0]\n",
    "print(\"True Positive: \",TP)\n",
    "print(\"True Negative: \",TN)\n",
    "print(\"False Positive: \",FP)\n",
    "print(\"False Negative: \",FN)"
   ]
  },
  {
   "cell_type": "code",
   "execution_count": 410,
   "metadata": {},
   "outputs": [
    {
     "name": "stdout",
     "output_type": "stream",
     "text": [
      "0.9765832064512491\n"
     ]
    }
   ],
   "source": [
    "# Classification Accuracy\n",
    "#print((TP + TN) / float(TP + TN + FP + FN))\n",
    "print(metrics.accuracy_score(y_test, y_pred_class))"
   ]
  },
  {
   "cell_type": "code",
   "execution_count": 411,
   "metadata": {},
   "outputs": [
    {
     "name": "stdout",
     "output_type": "stream",
     "text": [
      "0.023416793548750925\n"
     ]
    }
   ],
   "source": [
    "# Classification Error\n",
    "#print((FP + FN) / float(TP + TN + FP + FN))\n",
    "print(1 - metrics.accuracy_score(y_test, y_pred_class))"
   ]
  },
  {
   "cell_type": "code",
   "execution_count": 412,
   "metadata": {},
   "outputs": [
    {
     "name": "stdout",
     "output_type": "stream",
     "text": [
      "0.8303571428571429\n"
     ]
    }
   ],
   "source": [
    "# Sensitivity or Recall\n",
    "recall = (TP / float(TP + FN))\n",
    "#print(TP / float(TP + FN))\n",
    "print(metrics.recall_score(y_test, y_pred_class))"
   ]
  },
  {
   "cell_type": "code",
   "execution_count": 413,
   "metadata": {},
   "outputs": [
    {
     "name": "stdout",
     "output_type": "stream",
     "text": [
      "0.9768144591923186\n"
     ]
    }
   ],
   "source": [
    "# Specificity\n",
    "print(TN / float(TN + FP))"
   ]
  },
  {
   "cell_type": "code",
   "execution_count": 414,
   "metadata": {},
   "outputs": [
    {
     "name": "stdout",
     "output_type": "stream",
     "text": [
      "0.05360230547550432\n"
     ]
    }
   ],
   "source": [
    "# Precision\n",
    "precision = (TP / float(TP + FP))\n",
    "print(TP / float(TP + FP))"
   ]
  },
  {
   "cell_type": "code",
   "execution_count": 415,
   "metadata": {},
   "outputs": [
    {
     "name": "stdout",
     "output_type": "stream",
     "text": [
      "0.023185540807681447\n"
     ]
    }
   ],
   "source": [
    "# False Positive Rate\n",
    "print(FP / float(TN + FP))"
   ]
  },
  {
   "cell_type": "code",
   "execution_count": 416,
   "metadata": {},
   "outputs": [
    {
     "name": "stdout",
     "output_type": "stream",
     "text": [
      "0.10070384407146725\n"
     ]
    }
   ],
   "source": [
    "# F-measure\n",
    "print((2 * precision * recall) / (precision + recall))"
   ]
  },
  {
   "cell_type": "code",
   "execution_count": 417,
   "metadata": {},
   "outputs": [
    {
     "name": "stdout",
     "output_type": "stream",
     "text": [
      "0.9035858010247306\n"
     ]
    }
   ],
   "source": [
    "# AUC\n",
    "print(metrics.roc_auc_score(y_test, y_pred_class))"
   ]
  },
  {
   "cell_type": "code",
   "execution_count": 418,
   "metadata": {},
   "outputs": [
    {
     "data": {
      "image/png": "[encoded data removed]",
      "text/plain": [
       "<Figure size 432x288 with 1 Axes>"
      ]
     },
     "metadata": {
      "needs_background": "light"
     },
     "output_type": "display_data"
    }
   ],
   "source": [
    "# ROC Curve\n",
    "fpr, tpr, thresholds = metrics.roc_curve(y_test, y_pred_class)\n",
    "plt.plot(fpr, tpr)\n",
    "plt.plot([0,1], [0,1], linestyle=':', c='black')\n",
    "plt.xlim([0.0, 1.0])\n",
    "plt.ylim([0.0, 1.0])\n",
    "plt.title('ROC Curve')\n",
    "plt.xlabel('False Positive Rate (1 - Specificity)')\n",
    "plt.ylabel('True Positive Rate (Sensitivity)')\n",
    "plt.grid(True)"
   ]
  },
  {
   "cell_type": "code",
   "execution_count": 419,
   "metadata": {},
   "outputs": [
    {
     "name": "stdout",
     "output_type": "stream",
     "text": [
      "              precision    recall  f1-score   support\n",
      "\n",
      "           0       1.00      0.98      0.99     70820\n",
      "           1       0.05      0.83      0.10       112\n",
      "\n",
      "    accuracy                           0.98     70932\n",
      "   macro avg       0.53      0.90      0.54     70932\n",
      "weighted avg       1.00      0.98      0.99     70932\n",
      "\n"
     ]
    }
   ],
   "source": [
    "from sklearn.metrics import classification_report\n",
    "print(classification_report(y_test,y_pred_class))"
   ]
  },
  {
   "cell_type": "markdown",
   "metadata": {},
   "source": [
    "### With PCA"
   ]
  },
  {
   "cell_type": "code",
   "execution_count": 420,
   "metadata": {},
   "outputs": [
    {
     "data": {
      "text/plain": [
       "GaussianNB()"
      ]
     },
     "execution_count": 420,
     "metadata": {},
     "output_type": "execute_result"
    }
   ],
   "source": [
    "# Train a Naive Bayes model on the train set\n",
    "from sklearn.naive_bayes import GaussianNB\n",
    "gnb = GaussianNB()\n",
    "gnb.fit(X_smote_pca_15, y_train_smote)"
   ]
  },
  {
   "cell_type": "code",
   "execution_count": 421,
   "metadata": {},
   "outputs": [],
   "source": [
    "# Make class predictions for the test set\n",
    "y_pred_class = gnb.predict(X_test_pca_15)"
   ]
  },
  {
   "cell_type": "code",
   "execution_count": 423,
   "metadata": {},
   "outputs": [
    {
     "data": {
      "text/plain": [
       "array([[68069,  2751],\n",
       "       [   15,    97]], dtype=int64)"
      ]
     },
     "execution_count": 423,
     "metadata": {},
     "output_type": "execute_result"
    }
   ],
   "source": [
    "# Confusion matrix\n",
    "# Note: first argument is true values, second argument is predicted values\n",
    "from sklearn.metrics import confusion_matrix\n",
    "cm = confusion_matrix(y_test, y_pred_class)\n",
    "cm"
   ]
  },
  {
   "cell_type": "code",
   "execution_count": 424,
   "metadata": {},
   "outputs": [
    {
     "data": {
      "image/png": "[encoded data removed]",
      "text/plain": [
       "<Figure size 432x288 with 1 Axes>"
      ]
     },
     "metadata": {
      "needs_background": "light"
     },
     "output_type": "display_data"
    }
   ],
   "source": [
    "import matplotlib.pyplot as plt\n",
    "import seaborn as sns;\n",
    "faceLabels = ['Genuine (0)','Fradulent (1)']\n",
    "mat = confusion_matrix(y_test, y_pred_class)\n",
    "sns.heatmap(mat.T, square=True, annot=True, fmt='d', cbar=False,\n",
    "            xticklabels = faceLabels, cmap=\"BuPu\", linecolor='black', linewidths=1,\n",
    "            yticklabels = faceLabels)\n",
    "plt.xlabel('Actual Label')\n",
    "plt.ylabel('Predicted Label');\n",
    "plt.show()"
   ]
  },
  {
   "cell_type": "code",
   "execution_count": 425,
   "metadata": {},
   "outputs": [
    {
     "name": "stdout",
     "output_type": "stream",
     "text": [
      "[[68069  2751]\n",
      " [   15    97]]\n",
      "True Positive:  97\n",
      "True Negative:  68069\n",
      "False Positive:  2751\n",
      "False Negative:  15\n"
     ]
    }
   ],
   "source": [
    "# Save confusion matrix and slice into four sections\n",
    "confusion = metrics.confusion_matrix(y_test, y_pred_class)\n",
    "print(confusion)\n",
    "TP = confusion[1, 1]\n",
    "TN = confusion[0, 0]\n",
    "FP = confusion[0, 1]\n",
    "FN = confusion[1, 0]\n",
    "print(\"True Positive: \",TP)\n",
    "print(\"True Negative: \",TN)\n",
    "print(\"False Positive: \",FP)\n",
    "print(\"False Negative: \",FN)"
   ]
  },
  {
   "cell_type": "code",
   "execution_count": 426,
   "metadata": {},
   "outputs": [
    {
     "name": "stdout",
     "output_type": "stream",
     "text": [
      "0.9610049061072576\n"
     ]
    }
   ],
   "source": [
    "# Classification Accuracy\n",
    "#print((TP + TN) / float(TP + TN + FP + FN))\n",
    "print(metrics.accuracy_score(y_test, y_pred_class))"
   ]
  },
  {
   "cell_type": "code",
   "execution_count": 427,
   "metadata": {},
   "outputs": [
    {
     "name": "stdout",
     "output_type": "stream",
     "text": [
      "0.03899509389274236\n"
     ]
    }
   ],
   "source": [
    "# Classification Error\n",
    "#print((FP + FN) / float(TP + TN + FP + FN))\n",
    "print(1 - metrics.accuracy_score(y_test, y_pred_class))"
   ]
  },
  {
   "cell_type": "code",
   "execution_count": 428,
   "metadata": {},
   "outputs": [
    {
     "name": "stdout",
     "output_type": "stream",
     "text": [
      "0.8660714285714286\n"
     ]
    }
   ],
   "source": [
    "# Sensitivity or Recall\n",
    "recall = (TP / float(TP + FN))\n",
    "#print(TP / float(TP + FN))\n",
    "print(metrics.recall_score(y_test, y_pred_class))"
   ]
  },
  {
   "cell_type": "code",
   "execution_count": 429,
   "metadata": {},
   "outputs": [
    {
     "name": "stdout",
     "output_type": "stream",
     "text": [
      "0.9611550409488845\n"
     ]
    }
   ],
   "source": [
    "# Specificity\n",
    "print(TN / float(TN + FP))"
   ]
  },
  {
   "cell_type": "code",
   "execution_count": 430,
   "metadata": {},
   "outputs": [
    {
     "name": "stdout",
     "output_type": "stream",
     "text": [
      "0.034058988764044944\n"
     ]
    }
   ],
   "source": [
    "# Precision\n",
    "precision = (TP / float(TP + FP))\n",
    "print(TP / float(TP + FP))"
   ]
  },
  {
   "cell_type": "code",
   "execution_count": 431,
   "metadata": {},
   "outputs": [
    {
     "name": "stdout",
     "output_type": "stream",
     "text": [
      "0.038844959051115506\n"
     ]
    }
   ],
   "source": [
    "# False Positive Rate\n",
    "print(FP / float(TN + FP))"
   ]
  },
  {
   "cell_type": "code",
   "execution_count": 432,
   "metadata": {},
   "outputs": [
    {
     "name": "stdout",
     "output_type": "stream",
     "text": [
      "0.06554054054054055\n"
     ]
    }
   ],
   "source": [
    "# F-measure\n",
    "print((2 * precision * recall) / (precision + recall))"
   ]
  },
  {
   "cell_type": "code",
   "execution_count": 433,
   "metadata": {},
   "outputs": [
    {
     "name": "stdout",
     "output_type": "stream",
     "text": [
      "0.9136132347601565\n"
     ]
    }
   ],
   "source": [
    "# AUC\n",
    "print(metrics.roc_auc_score(y_test, y_pred_class))"
   ]
  },
  {
   "cell_type": "code",
   "execution_count": 434,
   "metadata": {},
   "outputs": [
    {
     "data": {
      "image/png": "[encoded data removed]",
      "text/plain": [
       "<Figure size 432x288 with 1 Axes>"
      ]
     },
     "metadata": {
      "needs_background": "light"
     },
     "output_type": "display_data"
    }
   ],
   "source": [
    "# ROC Curve\n",
    "fpr, tpr, thresholds = metrics.roc_curve(y_test, y_pred_class)\n",
    "plt.plot(fpr, tpr)\n",
    "plt.plot([0,1], [0,1], linestyle=':', c='black')\n",
    "plt.xlim([0.0, 1.0])\n",
    "plt.ylim([0.0, 1.0])\n",
    "plt.title('ROC Curve')\n",
    "plt.xlabel('False Positive Rate (1 - Specificity)')\n",
    "plt.ylabel('True Positive Rate (Sensitivity)')\n",
    "plt.grid(True)"
   ]
  },
  {
   "cell_type": "code",
   "execution_count": 435,
   "metadata": {},
   "outputs": [
    {
     "name": "stdout",
     "output_type": "stream",
     "text": [
      "              precision    recall  f1-score   support\n",
      "\n",
      "           0       1.00      0.96      0.98     70820\n",
      "           1       0.03      0.87      0.07       112\n",
      "\n",
      "    accuracy                           0.96     70932\n",
      "   macro avg       0.52      0.91      0.52     70932\n",
      "weighted avg       1.00      0.96      0.98     70932\n",
      "\n"
     ]
    }
   ],
   "source": [
    "from sklearn.metrics import classification_report\n",
    "print(classification_report(y_test,y_pred_class))"
   ]
  },
  {
   "cell_type": "markdown",
   "metadata": {},
   "source": [
    "### <a id=\"i3_ID\">9.3 KNN Classifier</a>"
   ]
  },
  {
   "cell_type": "markdown",
   "metadata": {},
   "source": [
    "### Without RFE or PCA"
   ]
  },
  {
   "cell_type": "code",
   "execution_count": 440,
   "metadata": {},
   "outputs": [],
   "source": [
    "from sklearn.neighbors import KNeighborsClassifier\n",
    "from sklearn import metrics\n",
    "from sklearn.model_selection import cross_val_score"
   ]
  },
  {
   "cell_type": "code",
   "execution_count": 443,
   "metadata": {},
   "outputs": [
    {
     "data": {
      "text/plain": [
       "KNeighborsClassifier(n_neighbors=2)"
      ]
     },
     "execution_count": 443,
     "metadata": {},
     "output_type": "execute_result"
    }
   ],
   "source": [
    "# Train a KNN classifier model on the train set\n",
    "knn = KNeighborsClassifier(n_neighbors=2)\n",
    "knn.fit(X_train_sc_smote, y_train_smote)"
   ]
  },
  {
   "cell_type": "code",
   "execution_count": 444,
   "metadata": {},
   "outputs": [],
   "source": [
    "# Make class predictions for the test set\n",
    "y_pred_class = knn.predict(X_test_sc)"
   ]
  },
  {
   "cell_type": "code",
   "execution_count": 445,
   "metadata": {},
   "outputs": [
    {
     "data": {
      "text/plain": [
       "array([[70797,    23],\n",
       "       [   24,    88]], dtype=int64)"
      ]
     },
     "execution_count": 445,
     "metadata": {},
     "output_type": "execute_result"
    }
   ],
   "source": [
    "# Confusion matrix\n",
    "# Note: first argument is true values, second argument is predicted values\n",
    "from sklearn.metrics import confusion_matrix\n",
    "cm = confusion_matrix(y_test, y_pred_class)\n",
    "cm"
   ]
  },
  {
   "cell_type": "code",
   "execution_count": 446,
   "metadata": {},
   "outputs": [
    {
     "data": {
      "image/png": "[encoded data removed]",
      "text/plain": [
       "<Figure size 432x288 with 1 Axes>"
      ]
     },
     "metadata": {
      "needs_background": "light"
     },
     "output_type": "display_data"
    }
   ],
   "source": [
    "import matplotlib.pyplot as plt\n",
    "import seaborn as sns;\n",
    "faceLabels = ['Genuine (0)','Fradulent (1)']\n",
    "mat = confusion_matrix(y_test, y_pred_class)\n",
    "sns.heatmap(mat.T, square=True, annot=True, fmt='d', cbar=False,\n",
    "            xticklabels = faceLabels, cmap=\"BuPu\", linecolor='black', linewidths=1,\n",
    "            yticklabels = faceLabels)\n",
    "plt.xlabel('Actual Label')\n",
    "plt.ylabel('Predicted Label');\n",
    "plt.show()"
   ]
  },
  {
   "cell_type": "code",
   "execution_count": 447,
   "metadata": {},
   "outputs": [
    {
     "name": "stdout",
     "output_type": "stream",
     "text": [
      "[[70797    23]\n",
      " [   24    88]]\n",
      "True Positive:  88\n",
      "True Negative:  70797\n",
      "False Positive:  23\n",
      "False Negative:  24\n"
     ]
    }
   ],
   "source": [
    "# Save confusion matrix and slice into four sections\n",
    "confusion = metrics.confusion_matrix(y_test, y_pred_class)\n",
    "print(confusion)\n",
    "TP = confusion[1, 1]\n",
    "TN = confusion[0, 0]\n",
    "FP = confusion[0, 1]\n",
    "FN = confusion[1, 0]\n",
    "print(\"True Positive: \",TP)\n",
    "print(\"True Negative: \",TN)\n",
    "print(\"False Positive: \",FP)\n",
    "print(\"False Negative: \",FN)"
   ]
  },
  {
   "cell_type": "code",
   "execution_count": 448,
   "metadata": {},
   "outputs": [
    {
     "name": "stdout",
     "output_type": "stream",
     "text": [
      "0.9993373935600294\n"
     ]
    }
   ],
   "source": [
    "# Classification Accuracy\n",
    "#print((TP + TN) / float(TP + TN + FP + FN))\n",
    "print(metrics.accuracy_score(y_test, y_pred_class))"
   ]
  },
  {
   "cell_type": "code",
   "execution_count": 449,
   "metadata": {},
   "outputs": [
    {
     "name": "stdout",
     "output_type": "stream",
     "text": [
      "0.0006626064399706255\n"
     ]
    }
   ],
   "source": [
    "# Classification Error\n",
    "#print((FP + FN) / float(TP + TN + FP + FN))\n",
    "print(1 - metrics.accuracy_score(y_test, y_pred_class))"
   ]
  },
  {
   "cell_type": "code",
   "execution_count": 450,
   "metadata": {},
   "outputs": [
    {
     "name": "stdout",
     "output_type": "stream",
     "text": [
      "0.7857142857142857\n"
     ]
    }
   ],
   "source": [
    "# Sensitivity or Recall\n",
    "recall = (TP / float(TP + FN))\n",
    "#print(TP / float(TP + FN))\n",
    "print(metrics.recall_score(y_test, y_pred_class))"
   ]
  },
  {
   "cell_type": "code",
   "execution_count": 451,
   "metadata": {},
   "outputs": [
    {
     "name": "stdout",
     "output_type": "stream",
     "text": [
      "0.9996752329850325\n"
     ]
    }
   ],
   "source": [
    "# Specificity\n",
    "print(TN / float(TN + FP))"
   ]
  },
  {
   "cell_type": "code",
   "execution_count": 452,
   "metadata": {},
   "outputs": [
    {
     "name": "stdout",
     "output_type": "stream",
     "text": [
      "0.7927927927927928\n"
     ]
    }
   ],
   "source": [
    "# Precision\n",
    "precision = (TP / float(TP + FP))\n",
    "print(TP / float(TP + FP))"
   ]
  },
  {
   "cell_type": "code",
   "execution_count": 453,
   "metadata": {},
   "outputs": [
    {
     "name": "stdout",
     "output_type": "stream",
     "text": [
      "0.0003247670149675233\n"
     ]
    }
   ],
   "source": [
    "# False Positive Rate\n",
    "print(FP / float(TN + FP))"
   ]
  },
  {
   "cell_type": "code",
   "execution_count": 454,
   "metadata": {},
   "outputs": [
    {
     "name": "stdout",
     "output_type": "stream",
     "text": [
      "0.789237668161435\n"
     ]
    }
   ],
   "source": [
    "# F-measure\n",
    "print((2 * precision * recall) / (precision + recall))"
   ]
  },
  {
   "cell_type": "code",
   "execution_count": 455,
   "metadata": {},
   "outputs": [
    {
     "name": "stdout",
     "output_type": "stream",
     "text": [
      "0.892694759349659\n"
     ]
    }
   ],
   "source": [
    "# AUC\n",
    "print(metrics.roc_auc_score(y_test, y_pred_class))"
   ]
  },
  {
   "cell_type": "code",
   "execution_count": 459,
   "metadata": {},
   "outputs": [
    {
     "data": {
      "image/png": "[encoded data removed]",
      "text/plain": [
       "<Figure size 432x288 with 1 Axes>"
      ]
     },
     "metadata": {
      "needs_background": "light"
     },
     "output_type": "display_data"
    }
   ],
   "source": [
    "# ROC Curve\n",
    "fpr, tpr, thresholds = metrics.roc_curve(y_test, y_pred_class)\n",
    "plt.plot(fpr, tpr)\n",
    "plt.plot([0,1], [0,1], linestyle=':', c='black')\n",
    "plt.xlim([-0.01, 1.0])\n",
    "plt.ylim([-0.01, 1.0])\n",
    "plt.title('ROC Curve')\n",
    "plt.xlabel('False Positive Rate (1 - Specificity)')\n",
    "plt.ylabel('True Positive Rate (Sensitivity)')\n",
    "plt.grid(True)"
   ]
  },
  {
   "cell_type": "code",
   "execution_count": 460,
   "metadata": {},
   "outputs": [
    {
     "name": "stdout",
     "output_type": "stream",
     "text": [
      "              precision    recall  f1-score   support\n",
      "\n",
      "           0       1.00      1.00      1.00     70820\n",
      "           1       0.79      0.79      0.79       112\n",
      "\n",
      "    accuracy                           1.00     70932\n",
      "   macro avg       0.90      0.89      0.89     70932\n",
      "weighted avg       1.00      1.00      1.00     70932\n",
      "\n"
     ]
    }
   ],
   "source": [
    "from sklearn.metrics import classification_report\n",
    "print(classification_report(y_test,y_pred_class))"
   ]
  },
  {
   "cell_type": "markdown",
   "metadata": {},
   "source": [
    "### With RFE"
   ]
  },
  {
   "cell_type": "code",
   "execution_count": 461,
   "metadata": {},
   "outputs": [
    {
     "data": {
      "text/plain": [
       "KNeighborsClassifier(n_neighbors=2)"
      ]
     },
     "execution_count": 461,
     "metadata": {},
     "output_type": "execute_result"
    }
   ],
   "source": [
    "# Train a KNN classifier model on the train set\n",
    "knn = KNeighborsClassifier(n_neighbors=2)\n",
    "knn.fit(X_train_rfe, y_train_smote)"
   ]
  },
  {
   "cell_type": "code",
   "execution_count": 462,
   "metadata": {},
   "outputs": [],
   "source": [
    "# Make class predictions for the test set\n",
    "y_pred_class = knn.predict(X_test_rfe)"
   ]
  },
  {
   "cell_type": "code",
   "execution_count": 463,
   "metadata": {},
   "outputs": [
    {
     "data": {
      "text/plain": [
       "array([[70797,    23],\n",
       "       [   24,    88]], dtype=int64)"
      ]
     },
     "execution_count": 463,
     "metadata": {},
     "output_type": "execute_result"
    }
   ],
   "source": [
    "# Confusion matrix\n",
    "# Note: first argument is true values, second argument is predicted values\n",
    "from sklearn.metrics import confusion_matrix\n",
    "cm = confusion_matrix(y_test, y_pred_class)\n",
    "cm"
   ]
  },
  {
   "cell_type": "code",
   "execution_count": 464,
   "metadata": {},
   "outputs": [
    {
     "data": {
      "image/png": "[encoded data removed]",
      "text/plain": [
       "<Figure size 432x288 with 1 Axes>"
      ]
     },
     "metadata": {
      "needs_background": "light"
     },
     "output_type": "display_data"
    }
   ],
   "source": [
    "import matplotlib.pyplot as plt\n",
    "import seaborn as sns;\n",
    "faceLabels = ['Genuine (0)','Fradulent (1)']\n",
    "mat = confusion_matrix(y_test, y_pred_class)\n",
    "sns.heatmap(mat.T, square=True, annot=True, fmt='d', cbar=False,\n",
    "            xticklabels = faceLabels, cmap=\"BuPu\", linecolor='black', linewidths=1,\n",
    "            yticklabels = faceLabels)\n",
    "plt.xlabel('Actual Label')\n",
    "plt.ylabel('Predicted Label');\n",
    "plt.show()"
   ]
  },
  {
   "cell_type": "code",
   "execution_count": 465,
   "metadata": {},
   "outputs": [
    {
     "name": "stdout",
     "output_type": "stream",
     "text": [
      "[[70797    23]\n",
      " [   24    88]]\n",
      "True Positive:  88\n",
      "True Negative:  70797\n",
      "False Positive:  23\n",
      "False Negative:  24\n"
     ]
    }
   ],
   "source": [
    "# Save confusion matrix and slice into four sections\n",
    "confusion = metrics.confusion_matrix(y_test, y_pred_class)\n",
    "print(confusion)\n",
    "TP = confusion[1, 1]\n",
    "TN = confusion[0, 0]\n",
    "FP = confusion[0, 1]\n",
    "FN = confusion[1, 0]\n",
    "print(\"True Positive: \",TP)\n",
    "print(\"True Negative: \",TN)\n",
    "print(\"False Positive: \",FP)\n",
    "print(\"False Negative: \",FN)"
   ]
  },
  {
   "cell_type": "code",
   "execution_count": 466,
   "metadata": {},
   "outputs": [
    {
     "name": "stdout",
     "output_type": "stream",
     "text": [
      "0.9993373935600294\n"
     ]
    }
   ],
   "source": [
    "# Classification Accuracy\n",
    "#print((TP + TN) / float(TP + TN + FP + FN))\n",
    "print(metrics.accuracy_score(y_test, y_pred_class))"
   ]
  },
  {
   "cell_type": "code",
   "execution_count": 467,
   "metadata": {},
   "outputs": [
    {
     "name": "stdout",
     "output_type": "stream",
     "text": [
      "0.0006626064399706255\n"
     ]
    }
   ],
   "source": [
    "# Classification Error\n",
    "#print((FP + FN) / float(TP + TN + FP + FN))\n",
    "print(1 - metrics.accuracy_score(y_test, y_pred_class))"
   ]
  },
  {
   "cell_type": "code",
   "execution_count": 468,
   "metadata": {},
   "outputs": [
    {
     "name": "stdout",
     "output_type": "stream",
     "text": [
      "0.7857142857142857\n"
     ]
    }
   ],
   "source": [
    "# Sensitivity or Recall\n",
    "recall = (TP / float(TP + FN))\n",
    "#print(TP / float(TP + FN))\n",
    "print(metrics.recall_score(y_test, y_pred_class))"
   ]
  },
  {
   "cell_type": "code",
   "execution_count": 469,
   "metadata": {},
   "outputs": [
    {
     "name": "stdout",
     "output_type": "stream",
     "text": [
      "0.9996752329850325\n"
     ]
    }
   ],
   "source": [
    "# Specificity\n",
    "print(TN / float(TN + FP))"
   ]
  },
  {
   "cell_type": "code",
   "execution_count": 470,
   "metadata": {},
   "outputs": [
    {
     "name": "stdout",
     "output_type": "stream",
     "text": [
      "0.7927927927927928\n"
     ]
    }
   ],
   "source": [
    "# Precision\n",
    "precision = (TP / float(TP + FP))\n",
    "print(TP / float(TP + FP))"
   ]
  },
  {
   "cell_type": "code",
   "execution_count": 471,
   "metadata": {},
   "outputs": [
    {
     "name": "stdout",
     "output_type": "stream",
     "text": [
      "0.0003247670149675233\n"
     ]
    }
   ],
   "source": [
    "# False Positive Rate\n",
    "print(FP / float(TN + FP))"
   ]
  },
  {
   "cell_type": "code",
   "execution_count": 472,
   "metadata": {},
   "outputs": [
    {
     "name": "stdout",
     "output_type": "stream",
     "text": [
      "0.789237668161435\n"
     ]
    }
   ],
   "source": [
    "# F-measure\n",
    "print((2 * precision * recall) / (precision + recall))"
   ]
  },
  {
   "cell_type": "code",
   "execution_count": 473,
   "metadata": {},
   "outputs": [
    {
     "name": "stdout",
     "output_type": "stream",
     "text": [
      "0.892694759349659\n"
     ]
    }
   ],
   "source": [
    "# AUC\n",
    "print(metrics.roc_auc_score(y_test, y_pred_class))"
   ]
  },
  {
   "cell_type": "code",
   "execution_count": 492,
   "metadata": {},
   "outputs": [
    {
     "data": {
      "image/png": "[encoded data removed]",
      "text/plain": [
       "<Figure size 432x288 with 1 Axes>"
      ]
     },
     "metadata": {
      "needs_background": "light"
     },
     "output_type": "display_data"
    }
   ],
   "source": [
    "# ROC Curve\n",
    "fpr, tpr, thresholds = metrics.roc_curve(y_test, y_pred_class)\n",
    "plt.plot(fpr, tpr)\n",
    "plt.plot([0,1], [0,1], linestyle=':', c='black')\n",
    "plt.xlim([-0.01, 1.0])\n",
    "plt.ylim([-0.01, 1.0])\n",
    "plt.title('ROC Curve')\n",
    "plt.xlabel('False Positive Rate (1 - Specificity)')\n",
    "plt.ylabel('True Positive Rate (Sensitivity)')\n",
    "plt.grid(True)"
   ]
  },
  {
   "cell_type": "code",
   "execution_count": 475,
   "metadata": {},
   "outputs": [
    {
     "name": "stdout",
     "output_type": "stream",
     "text": [
      "              precision    recall  f1-score   support\n",
      "\n",
      "           0       1.00      1.00      1.00     70820\n",
      "           1       0.79      0.79      0.79       112\n",
      "\n",
      "    accuracy                           1.00     70932\n",
      "   macro avg       0.90      0.89      0.89     70932\n",
      "weighted avg       1.00      1.00      1.00     70932\n",
      "\n"
     ]
    }
   ],
   "source": [
    "from sklearn.metrics import classification_report\n",
    "print(classification_report(y_test,y_pred_class))"
   ]
  },
  {
   "cell_type": "markdown",
   "metadata": {},
   "source": [
    "### With PCA"
   ]
  },
  {
   "cell_type": "code",
   "execution_count": 476,
   "metadata": {},
   "outputs": [
    {
     "data": {
      "text/plain": [
       "KNeighborsClassifier(n_neighbors=2)"
      ]
     },
     "execution_count": 476,
     "metadata": {},
     "output_type": "execute_result"
    }
   ],
   "source": [
    "# Train a KNN classifier model on the train set\n",
    "knn = KNeighborsClassifier(n_neighbors=2)\n",
    "knn.fit(X_smote_pca_15, y_train_smote)"
   ]
  },
  {
   "cell_type": "code",
   "execution_count": 477,
   "metadata": {},
   "outputs": [],
   "source": [
    "# Make class predictions for the test set\n",
    "y_pred_class = knn.predict(X_test_pca_15)"
   ]
  },
  {
   "cell_type": "code",
   "execution_count": 478,
   "metadata": {},
   "outputs": [
    {
     "data": {
      "text/plain": [
       "array([[70769,    51],\n",
       "       [   26,    86]], dtype=int64)"
      ]
     },
     "execution_count": 478,
     "metadata": {},
     "output_type": "execute_result"
    }
   ],
   "source": [
    "# Confusion matrix\n",
    "# Note: first argument is true values, second argument is predicted values\n",
    "from sklearn.metrics import confusion_matrix\n",
    "cm = confusion_matrix(y_test, y_pred_class)\n",
    "cm"
   ]
  },
  {
   "cell_type": "code",
   "execution_count": 479,
   "metadata": {},
   "outputs": [
    {
     "data": {
      "image/png": "[encoded data removed]",
      "text/plain": [
       "<Figure size 432x288 with 1 Axes>"
      ]
     },
     "metadata": {
      "needs_background": "light"
     },
     "output_type": "display_data"
    }
   ],
   "source": [
    "import matplotlib.pyplot as plt\n",
    "import seaborn as sns;\n",
    "faceLabels = ['Genuine (0)','Fradulent (1)']\n",
    "mat = confusion_matrix(y_test, y_pred_class)\n",
    "sns.heatmap(mat.T, square=True, annot=True, fmt='d', cbar=False,\n",
    "            xticklabels = faceLabels, cmap=\"BuPu\", linecolor='black', linewidths=1,\n",
    "            yticklabels = faceLabels)\n",
    "plt.xlabel('Actual Label')\n",
    "plt.ylabel('Predicted Label');\n",
    "plt.show()"
   ]
  },
  {
   "cell_type": "code",
   "execution_count": 480,
   "metadata": {},
   "outputs": [
    {
     "name": "stdout",
     "output_type": "stream",
     "text": [
      "[[70769    51]\n",
      " [   26    86]]\n",
      "True Positive:  86\n",
      "True Negative:  70769\n",
      "False Positive:  51\n",
      "False Negative:  26\n"
     ]
    }
   ],
   "source": [
    "# Save confusion matrix and slice into four sections\n",
    "confusion = metrics.confusion_matrix(y_test, y_pred_class)\n",
    "print(confusion)\n",
    "TP = confusion[1, 1]\n",
    "TN = confusion[0, 0]\n",
    "FP = confusion[0, 1]\n",
    "FN = confusion[1, 0]\n",
    "print(\"True Positive: \",TP)\n",
    "print(\"True Negative: \",TN)\n",
    "print(\"False Positive: \",FP)\n",
    "print(\"False Negative: \",FN)"
   ]
  },
  {
   "cell_type": "code",
   "execution_count": 481,
   "metadata": {},
   "outputs": [
    {
     "name": "stdout",
     "output_type": "stream",
     "text": [
      "0.9989144532791969\n"
     ]
    }
   ],
   "source": [
    "# Classification Accuracy\n",
    "#print((TP + TN) / float(TP + TN + FP + FN))\n",
    "print(metrics.accuracy_score(y_test, y_pred_class))"
   ]
  },
  {
   "cell_type": "code",
   "execution_count": 482,
   "metadata": {},
   "outputs": [
    {
     "name": "stdout",
     "output_type": "stream",
     "text": [
      "0.0010855467208030767\n"
     ]
    }
   ],
   "source": [
    "# Classification Error\n",
    "#print((FP + FN) / float(TP + TN + FP + FN))\n",
    "print(1 - metrics.accuracy_score(y_test, y_pred_class))"
   ]
  },
  {
   "cell_type": "code",
   "execution_count": 483,
   "metadata": {},
   "outputs": [
    {
     "name": "stdout",
     "output_type": "stream",
     "text": [
      "0.7678571428571429\n"
     ]
    }
   ],
   "source": [
    "# Sensitivity or Recall\n",
    "recall = (TP / float(TP + FN))\n",
    "#print(TP / float(TP + FN))\n",
    "print(metrics.recall_score(y_test, y_pred_class))"
   ]
  },
  {
   "cell_type": "code",
   "execution_count": 484,
   "metadata": {},
   "outputs": [
    {
     "name": "stdout",
     "output_type": "stream",
     "text": [
      "0.999279864445072\n"
     ]
    }
   ],
   "source": [
    "# Specificity\n",
    "print(TN / float(TN + FP))"
   ]
  },
  {
   "cell_type": "code",
   "execution_count": 485,
   "metadata": {},
   "outputs": [
    {
     "name": "stdout",
     "output_type": "stream",
     "text": [
      "0.6277372262773723\n"
     ]
    }
   ],
   "source": [
    "# Precision\n",
    "precision = (TP / float(TP + FP))\n",
    "print(TP / float(TP + FP))"
   ]
  },
  {
   "cell_type": "code",
   "execution_count": 486,
   "metadata": {},
   "outputs": [
    {
     "name": "stdout",
     "output_type": "stream",
     "text": [
      "0.0007201355549279865\n"
     ]
    }
   ],
   "source": [
    "# False Positive Rate\n",
    "print(FP / float(TN + FP))"
   ]
  },
  {
   "cell_type": "code",
   "execution_count": 487,
   "metadata": {},
   "outputs": [
    {
     "name": "stdout",
     "output_type": "stream",
     "text": [
      "0.6907630522088354\n"
     ]
    }
   ],
   "source": [
    "# F-measure\n",
    "print((2 * precision * recall) / (precision + recall))"
   ]
  },
  {
   "cell_type": "code",
   "execution_count": 488,
   "metadata": {},
   "outputs": [
    {
     "name": "stdout",
     "output_type": "stream",
     "text": [
      "0.8835685036511074\n"
     ]
    }
   ],
   "source": [
    "# AUC\n",
    "print(metrics.roc_auc_score(y_test, y_pred_class))"
   ]
  },
  {
   "cell_type": "code",
   "execution_count": 491,
   "metadata": {},
   "outputs": [
    {
     "data": {
      "image/png": "[encoded data removed]",
      "text/plain": [
       "<Figure size 432x288 with 1 Axes>"
      ]
     },
     "metadata": {
      "needs_background": "light"
     },
     "output_type": "display_data"
    }
   ],
   "source": [
    "# ROC Curve\n",
    "fpr, tpr, thresholds = metrics.roc_curve(y_test, y_pred_class)\n",
    "plt.plot(fpr, tpr)\n",
    "plt.plot([0,1], [0,1], linestyle=':', c='black')\n",
    "plt.xlim([-0.01, 1.0])\n",
    "plt.ylim([-0.01, 1.0])\n",
    "plt.title('ROC Curve')\n",
    "plt.xlabel('False Positive Rate (1 - Specificity)')\n",
    "plt.ylabel('True Positive Rate (Sensitivity)')\n",
    "plt.grid(True)"
   ]
  },
  {
   "cell_type": "code",
   "execution_count": 490,
   "metadata": {},
   "outputs": [
    {
     "name": "stdout",
     "output_type": "stream",
     "text": [
      "              precision    recall  f1-score   support\n",
      "\n",
      "           0       1.00      1.00      1.00     70820\n",
      "           1       0.63      0.77      0.69       112\n",
      "\n",
      "    accuracy                           1.00     70932\n",
      "   macro avg       0.81      0.88      0.85     70932\n",
      "weighted avg       1.00      1.00      1.00     70932\n",
      "\n"
     ]
    }
   ],
   "source": [
    "from sklearn.metrics import classification_report\n",
    "print(classification_report(y_test,y_pred_class))"
   ]
  }
 ],
 "metadata": {
  "kernelspec": {
   "display_name": "Python 3",
   "language": "python",
   "name": "python3"
  },
  "language_info": {
   "codemirror_mode": {
    "name": "ipython",
    "version": 3
   },
   "file_extension": ".py",
   "mimetype": "text/x-python",
   "name": "python",
   "nbconvert_exporter": "python",
   "pygments_lexer": "ipython3",
   "version": "3.7.3"
  }
 },
 "nbformat": 4,
 "nbformat_minor": 4
}
